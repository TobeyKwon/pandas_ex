{
 "cells": [
  {
   "cell_type": "markdown",
   "source": [
    "# 5. 데이터 확인"
   ],
   "metadata": {
    "collapsed": false,
    "pycharm": {
     "name": "#%% md\n"
    }
   }
  },
  {
   "cell_type": "code",
   "execution_count": 1,
   "outputs": [
    {
     "data": {
      "text/plain": "       이름   학교    키   국어   영어   수학  과학  사회        SW특기\n지원번호                                                  \n1번    채치수  북산고  197   90   85  100  95  85      Python\n2번    정대만  북산고  184   40   35   50  55  25        Java\n3번    송태섭  북산고  168   80   75   70  80  75  Javascript\n4번    서태웅  북산고  187   40   60   70  75  80         NaN\n5번    강백호  북산고  188   15   20   10  35  10         NaN\n6번    변덕규  능남고  202   80  100   95  85  80           C\n7번    황태산  능남고  188   55   65   45  40  35      PYTHON\n8번    윤대협  능남고  190  100   85   90  95  95          C#",
      "text/html": "<div>\n<style scoped>\n    .dataframe tbody tr th:only-of-type {\n        vertical-align: middle;\n    }\n\n    .dataframe tbody tr th {\n        vertical-align: top;\n    }\n\n    .dataframe thead th {\n        text-align: right;\n    }\n</style>\n<table border=\"1\" class=\"dataframe\">\n  <thead>\n    <tr style=\"text-align: right;\">\n      <th></th>\n      <th>이름</th>\n      <th>학교</th>\n      <th>키</th>\n      <th>국어</th>\n      <th>영어</th>\n      <th>수학</th>\n      <th>과학</th>\n      <th>사회</th>\n      <th>SW특기</th>\n    </tr>\n    <tr>\n      <th>지원번호</th>\n      <th></th>\n      <th></th>\n      <th></th>\n      <th></th>\n      <th></th>\n      <th></th>\n      <th></th>\n      <th></th>\n      <th></th>\n    </tr>\n  </thead>\n  <tbody>\n    <tr>\n      <th>1번</th>\n      <td>채치수</td>\n      <td>북산고</td>\n      <td>197</td>\n      <td>90</td>\n      <td>85</td>\n      <td>100</td>\n      <td>95</td>\n      <td>85</td>\n      <td>Python</td>\n    </tr>\n    <tr>\n      <th>2번</th>\n      <td>정대만</td>\n      <td>북산고</td>\n      <td>184</td>\n      <td>40</td>\n      <td>35</td>\n      <td>50</td>\n      <td>55</td>\n      <td>25</td>\n      <td>Java</td>\n    </tr>\n    <tr>\n      <th>3번</th>\n      <td>송태섭</td>\n      <td>북산고</td>\n      <td>168</td>\n      <td>80</td>\n      <td>75</td>\n      <td>70</td>\n      <td>80</td>\n      <td>75</td>\n      <td>Javascript</td>\n    </tr>\n    <tr>\n      <th>4번</th>\n      <td>서태웅</td>\n      <td>북산고</td>\n      <td>187</td>\n      <td>40</td>\n      <td>60</td>\n      <td>70</td>\n      <td>75</td>\n      <td>80</td>\n      <td>NaN</td>\n    </tr>\n    <tr>\n      <th>5번</th>\n      <td>강백호</td>\n      <td>북산고</td>\n      <td>188</td>\n      <td>15</td>\n      <td>20</td>\n      <td>10</td>\n      <td>35</td>\n      <td>10</td>\n      <td>NaN</td>\n    </tr>\n    <tr>\n      <th>6번</th>\n      <td>변덕규</td>\n      <td>능남고</td>\n      <td>202</td>\n      <td>80</td>\n      <td>100</td>\n      <td>95</td>\n      <td>85</td>\n      <td>80</td>\n      <td>C</td>\n    </tr>\n    <tr>\n      <th>7번</th>\n      <td>황태산</td>\n      <td>능남고</td>\n      <td>188</td>\n      <td>55</td>\n      <td>65</td>\n      <td>45</td>\n      <td>40</td>\n      <td>35</td>\n      <td>PYTHON</td>\n    </tr>\n    <tr>\n      <th>8번</th>\n      <td>윤대협</td>\n      <td>능남고</td>\n      <td>190</td>\n      <td>100</td>\n      <td>85</td>\n      <td>90</td>\n      <td>95</td>\n      <td>95</td>\n      <td>C#</td>\n    </tr>\n  </tbody>\n</table>\n</div>"
     },
     "execution_count": 1,
     "metadata": {},
     "output_type": "execute_result"
    }
   ],
   "source": [
    "import pandas as pd\n",
    "df = pd.read_csv(\"score.txt\", sep=\"\\t\", index_col=\"지원번호\")\n",
    "df"
   ],
   "metadata": {
    "collapsed": false,
    "pycharm": {
     "name": "#%%\n"
    }
   }
  },
  {
   "cell_type": "markdown",
   "source": [
    "## DataFrame 확인\n",
    "계산 가능한 데이터에 대해 Column 별로 데이터의 갯수, 평균, 표준편차, 최소/최대값 등의 정보를 보여줌"
   ],
   "metadata": {
    "collapsed": false,
    "pycharm": {
     "name": "#%% md\n"
    }
   }
  },
  {
   "cell_type": "code",
   "execution_count": 2,
   "outputs": [
    {
     "data": {
      "text/plain": "                키          국어          영어          수학         과학         사회\ncount    8.000000    8.000000    8.000000    8.000000   8.000000   8.000000\nmean   188.000000   62.500000   65.625000   66.250000  70.000000  60.625000\nstd      9.985704   29.519969   26.917533   30.325614  23.754699  32.120032\nmin    168.000000   15.000000   20.000000   10.000000  35.000000  10.000000\n25%    186.250000   40.000000   53.750000   48.750000  51.250000  32.500000\n50%    188.000000   67.500000   70.000000   70.000000  77.500000  77.500000\n75%    191.750000   82.500000   85.000000   91.250000  87.500000  81.250000\nmax    202.000000  100.000000  100.000000  100.000000  95.000000  95.000000",
      "text/html": "<div>\n<style scoped>\n    .dataframe tbody tr th:only-of-type {\n        vertical-align: middle;\n    }\n\n    .dataframe tbody tr th {\n        vertical-align: top;\n    }\n\n    .dataframe thead th {\n        text-align: right;\n    }\n</style>\n<table border=\"1\" class=\"dataframe\">\n  <thead>\n    <tr style=\"text-align: right;\">\n      <th></th>\n      <th>키</th>\n      <th>국어</th>\n      <th>영어</th>\n      <th>수학</th>\n      <th>과학</th>\n      <th>사회</th>\n    </tr>\n  </thead>\n  <tbody>\n    <tr>\n      <th>count</th>\n      <td>8.000000</td>\n      <td>8.000000</td>\n      <td>8.000000</td>\n      <td>8.000000</td>\n      <td>8.000000</td>\n      <td>8.000000</td>\n    </tr>\n    <tr>\n      <th>mean</th>\n      <td>188.000000</td>\n      <td>62.500000</td>\n      <td>65.625000</td>\n      <td>66.250000</td>\n      <td>70.000000</td>\n      <td>60.625000</td>\n    </tr>\n    <tr>\n      <th>std</th>\n      <td>9.985704</td>\n      <td>29.519969</td>\n      <td>26.917533</td>\n      <td>30.325614</td>\n      <td>23.754699</td>\n      <td>32.120032</td>\n    </tr>\n    <tr>\n      <th>min</th>\n      <td>168.000000</td>\n      <td>15.000000</td>\n      <td>20.000000</td>\n      <td>10.000000</td>\n      <td>35.000000</td>\n      <td>10.000000</td>\n    </tr>\n    <tr>\n      <th>25%</th>\n      <td>186.250000</td>\n      <td>40.000000</td>\n      <td>53.750000</td>\n      <td>48.750000</td>\n      <td>51.250000</td>\n      <td>32.500000</td>\n    </tr>\n    <tr>\n      <th>50%</th>\n      <td>188.000000</td>\n      <td>67.500000</td>\n      <td>70.000000</td>\n      <td>70.000000</td>\n      <td>77.500000</td>\n      <td>77.500000</td>\n    </tr>\n    <tr>\n      <th>75%</th>\n      <td>191.750000</td>\n      <td>82.500000</td>\n      <td>85.000000</td>\n      <td>91.250000</td>\n      <td>87.500000</td>\n      <td>81.250000</td>\n    </tr>\n    <tr>\n      <th>max</th>\n      <td>202.000000</td>\n      <td>100.000000</td>\n      <td>100.000000</td>\n      <td>100.000000</td>\n      <td>95.000000</td>\n      <td>95.000000</td>\n    </tr>\n  </tbody>\n</table>\n</div>"
     },
     "execution_count": 2,
     "metadata": {},
     "output_type": "execute_result"
    }
   ],
   "source": [
    "df.describe()"
   ],
   "metadata": {
    "collapsed": false,
    "pycharm": {
     "name": "#%%\n"
    }
   }
  },
  {
   "cell_type": "code",
   "execution_count": 3,
   "outputs": [
    {
     "name": "stdout",
     "output_type": "stream",
     "text": [
      "<class 'pandas.core.frame.DataFrame'>\n",
      "Index: 8 entries, 1번 to 8번\n",
      "Data columns (total 9 columns):\n",
      " #   Column  Non-Null Count  Dtype \n",
      "---  ------  --------------  ----- \n",
      " 0   이름      8 non-null      object\n",
      " 1   학교      8 non-null      object\n",
      " 2   키       8 non-null      int64 \n",
      " 3   국어      8 non-null      int64 \n",
      " 4   영어      8 non-null      int64 \n",
      " 5   수학      8 non-null      int64 \n",
      " 6   과학      8 non-null      int64 \n",
      " 7   사회      8 non-null      int64 \n",
      " 8   SW특기    6 non-null      object\n",
      "dtypes: int64(6), object(3)\n",
      "memory usage: 640.0+ bytes\n"
     ]
    }
   ],
   "source": [
    "df.info()"
   ],
   "metadata": {
    "collapsed": false,
    "pycharm": {
     "name": "#%%\n"
    }
   }
  },
  {
   "cell_type": "code",
   "execution_count": 4,
   "outputs": [
    {
     "data": {
      "text/plain": "       이름   학교    키  국어  영어   수학  과학  사회        SW특기\n지원번호                                                \n1번    채치수  북산고  197  90  85  100  95  85      Python\n2번    정대만  북산고  184  40  35   50  55  25        Java\n3번    송태섭  북산고  168  80  75   70  80  75  Javascript\n4번    서태웅  북산고  187  40  60   70  75  80         NaN\n5번    강백호  북산고  188  15  20   10  35  10         NaN",
      "text/html": "<div>\n<style scoped>\n    .dataframe tbody tr th:only-of-type {\n        vertical-align: middle;\n    }\n\n    .dataframe tbody tr th {\n        vertical-align: top;\n    }\n\n    .dataframe thead th {\n        text-align: right;\n    }\n</style>\n<table border=\"1\" class=\"dataframe\">\n  <thead>\n    <tr style=\"text-align: right;\">\n      <th></th>\n      <th>이름</th>\n      <th>학교</th>\n      <th>키</th>\n      <th>국어</th>\n      <th>영어</th>\n      <th>수학</th>\n      <th>과학</th>\n      <th>사회</th>\n      <th>SW특기</th>\n    </tr>\n    <tr>\n      <th>지원번호</th>\n      <th></th>\n      <th></th>\n      <th></th>\n      <th></th>\n      <th></th>\n      <th></th>\n      <th></th>\n      <th></th>\n      <th></th>\n    </tr>\n  </thead>\n  <tbody>\n    <tr>\n      <th>1번</th>\n      <td>채치수</td>\n      <td>북산고</td>\n      <td>197</td>\n      <td>90</td>\n      <td>85</td>\n      <td>100</td>\n      <td>95</td>\n      <td>85</td>\n      <td>Python</td>\n    </tr>\n    <tr>\n      <th>2번</th>\n      <td>정대만</td>\n      <td>북산고</td>\n      <td>184</td>\n      <td>40</td>\n      <td>35</td>\n      <td>50</td>\n      <td>55</td>\n      <td>25</td>\n      <td>Java</td>\n    </tr>\n    <tr>\n      <th>3번</th>\n      <td>송태섭</td>\n      <td>북산고</td>\n      <td>168</td>\n      <td>80</td>\n      <td>75</td>\n      <td>70</td>\n      <td>80</td>\n      <td>75</td>\n      <td>Javascript</td>\n    </tr>\n    <tr>\n      <th>4번</th>\n      <td>서태웅</td>\n      <td>북산고</td>\n      <td>187</td>\n      <td>40</td>\n      <td>60</td>\n      <td>70</td>\n      <td>75</td>\n      <td>80</td>\n      <td>NaN</td>\n    </tr>\n    <tr>\n      <th>5번</th>\n      <td>강백호</td>\n      <td>북산고</td>\n      <td>188</td>\n      <td>15</td>\n      <td>20</td>\n      <td>10</td>\n      <td>35</td>\n      <td>10</td>\n      <td>NaN</td>\n    </tr>\n  </tbody>\n</table>\n</div>"
     },
     "execution_count": 4,
     "metadata": {},
     "output_type": "execute_result"
    }
   ],
   "source": [
    "df.head() # 처음 5개의 row를 가져옴"
   ],
   "metadata": {
    "collapsed": false,
    "pycharm": {
     "name": "#%%\n"
    }
   }
  },
  {
   "cell_type": "code",
   "execution_count": 5,
   "outputs": [
    {
     "data": {
      "text/plain": "       이름   학교    키  국어   영어   수학  과학  사회        SW특기\n지원번호                                                 \n1번    채치수  북산고  197  90   85  100  95  85      Python\n2번    정대만  북산고  184  40   35   50  55  25        Java\n3번    송태섭  북산고  168  80   75   70  80  75  Javascript\n4번    서태웅  북산고  187  40   60   70  75  80         NaN\n5번    강백호  북산고  188  15   20   10  35  10         NaN\n6번    변덕규  능남고  202  80  100   95  85  80           C\n7번    황태산  능남고  188  55   65   45  40  35      PYTHON",
      "text/html": "<div>\n<style scoped>\n    .dataframe tbody tr th:only-of-type {\n        vertical-align: middle;\n    }\n\n    .dataframe tbody tr th {\n        vertical-align: top;\n    }\n\n    .dataframe thead th {\n        text-align: right;\n    }\n</style>\n<table border=\"1\" class=\"dataframe\">\n  <thead>\n    <tr style=\"text-align: right;\">\n      <th></th>\n      <th>이름</th>\n      <th>학교</th>\n      <th>키</th>\n      <th>국어</th>\n      <th>영어</th>\n      <th>수학</th>\n      <th>과학</th>\n      <th>사회</th>\n      <th>SW특기</th>\n    </tr>\n    <tr>\n      <th>지원번호</th>\n      <th></th>\n      <th></th>\n      <th></th>\n      <th></th>\n      <th></th>\n      <th></th>\n      <th></th>\n      <th></th>\n      <th></th>\n    </tr>\n  </thead>\n  <tbody>\n    <tr>\n      <th>1번</th>\n      <td>채치수</td>\n      <td>북산고</td>\n      <td>197</td>\n      <td>90</td>\n      <td>85</td>\n      <td>100</td>\n      <td>95</td>\n      <td>85</td>\n      <td>Python</td>\n    </tr>\n    <tr>\n      <th>2번</th>\n      <td>정대만</td>\n      <td>북산고</td>\n      <td>184</td>\n      <td>40</td>\n      <td>35</td>\n      <td>50</td>\n      <td>55</td>\n      <td>25</td>\n      <td>Java</td>\n    </tr>\n    <tr>\n      <th>3번</th>\n      <td>송태섭</td>\n      <td>북산고</td>\n      <td>168</td>\n      <td>80</td>\n      <td>75</td>\n      <td>70</td>\n      <td>80</td>\n      <td>75</td>\n      <td>Javascript</td>\n    </tr>\n    <tr>\n      <th>4번</th>\n      <td>서태웅</td>\n      <td>북산고</td>\n      <td>187</td>\n      <td>40</td>\n      <td>60</td>\n      <td>70</td>\n      <td>75</td>\n      <td>80</td>\n      <td>NaN</td>\n    </tr>\n    <tr>\n      <th>5번</th>\n      <td>강백호</td>\n      <td>북산고</td>\n      <td>188</td>\n      <td>15</td>\n      <td>20</td>\n      <td>10</td>\n      <td>35</td>\n      <td>10</td>\n      <td>NaN</td>\n    </tr>\n    <tr>\n      <th>6번</th>\n      <td>변덕규</td>\n      <td>능남고</td>\n      <td>202</td>\n      <td>80</td>\n      <td>100</td>\n      <td>95</td>\n      <td>85</td>\n      <td>80</td>\n      <td>C</td>\n    </tr>\n    <tr>\n      <th>7번</th>\n      <td>황태산</td>\n      <td>능남고</td>\n      <td>188</td>\n      <td>55</td>\n      <td>65</td>\n      <td>45</td>\n      <td>40</td>\n      <td>35</td>\n      <td>PYTHON</td>\n    </tr>\n  </tbody>\n</table>\n</div>"
     },
     "execution_count": 5,
     "metadata": {},
     "output_type": "execute_result"
    }
   ],
   "source": [
    "df.head(7)"
   ],
   "metadata": {
    "collapsed": false,
    "pycharm": {
     "name": "#%%\n"
    }
   }
  },
  {
   "cell_type": "code",
   "execution_count": 6,
   "outputs": [
    {
     "data": {
      "text/plain": "       이름   학교    키   국어   영어  수학  과학  사회    SW특기\n지원번호                                             \n4번    서태웅  북산고  187   40   60  70  75  80     NaN\n5번    강백호  북산고  188   15   20  10  35  10     NaN\n6번    변덕규  능남고  202   80  100  95  85  80       C\n7번    황태산  능남고  188   55   65  45  40  35  PYTHON\n8번    윤대협  능남고  190  100   85  90  95  95      C#",
      "text/html": "<div>\n<style scoped>\n    .dataframe tbody tr th:only-of-type {\n        vertical-align: middle;\n    }\n\n    .dataframe tbody tr th {\n        vertical-align: top;\n    }\n\n    .dataframe thead th {\n        text-align: right;\n    }\n</style>\n<table border=\"1\" class=\"dataframe\">\n  <thead>\n    <tr style=\"text-align: right;\">\n      <th></th>\n      <th>이름</th>\n      <th>학교</th>\n      <th>키</th>\n      <th>국어</th>\n      <th>영어</th>\n      <th>수학</th>\n      <th>과학</th>\n      <th>사회</th>\n      <th>SW특기</th>\n    </tr>\n    <tr>\n      <th>지원번호</th>\n      <th></th>\n      <th></th>\n      <th></th>\n      <th></th>\n      <th></th>\n      <th></th>\n      <th></th>\n      <th></th>\n      <th></th>\n    </tr>\n  </thead>\n  <tbody>\n    <tr>\n      <th>4번</th>\n      <td>서태웅</td>\n      <td>북산고</td>\n      <td>187</td>\n      <td>40</td>\n      <td>60</td>\n      <td>70</td>\n      <td>75</td>\n      <td>80</td>\n      <td>NaN</td>\n    </tr>\n    <tr>\n      <th>5번</th>\n      <td>강백호</td>\n      <td>북산고</td>\n      <td>188</td>\n      <td>15</td>\n      <td>20</td>\n      <td>10</td>\n      <td>35</td>\n      <td>10</td>\n      <td>NaN</td>\n    </tr>\n    <tr>\n      <th>6번</th>\n      <td>변덕규</td>\n      <td>능남고</td>\n      <td>202</td>\n      <td>80</td>\n      <td>100</td>\n      <td>95</td>\n      <td>85</td>\n      <td>80</td>\n      <td>C</td>\n    </tr>\n    <tr>\n      <th>7번</th>\n      <td>황태산</td>\n      <td>능남고</td>\n      <td>188</td>\n      <td>55</td>\n      <td>65</td>\n      <td>45</td>\n      <td>40</td>\n      <td>35</td>\n      <td>PYTHON</td>\n    </tr>\n    <tr>\n      <th>8번</th>\n      <td>윤대협</td>\n      <td>능남고</td>\n      <td>190</td>\n      <td>100</td>\n      <td>85</td>\n      <td>90</td>\n      <td>95</td>\n      <td>95</td>\n      <td>C#</td>\n    </tr>\n  </tbody>\n</table>\n</div>"
     },
     "execution_count": 6,
     "metadata": {},
     "output_type": "execute_result"
    }
   ],
   "source": [
    "df.tail() # 마지막 5개 row를 가져옴"
   ],
   "metadata": {
    "collapsed": false,
    "pycharm": {
     "name": "#%%\n"
    }
   }
  },
  {
   "cell_type": "code",
   "execution_count": 7,
   "outputs": [
    {
     "data": {
      "text/plain": "       이름   학교    키   국어   영어  수학  과학  사회    SW특기\n지원번호                                             \n4번    서태웅  북산고  187   40   60  70  75  80     NaN\n5번    강백호  북산고  188   15   20  10  35  10     NaN\n6번    변덕규  능남고  202   80  100  95  85  80       C\n7번    황태산  능남고  188   55   65  45  40  35  PYTHON\n8번    윤대협  능남고  190  100   85  90  95  95      C#",
      "text/html": "<div>\n<style scoped>\n    .dataframe tbody tr th:only-of-type {\n        vertical-align: middle;\n    }\n\n    .dataframe tbody tr th {\n        vertical-align: top;\n    }\n\n    .dataframe thead th {\n        text-align: right;\n    }\n</style>\n<table border=\"1\" class=\"dataframe\">\n  <thead>\n    <tr style=\"text-align: right;\">\n      <th></th>\n      <th>이름</th>\n      <th>학교</th>\n      <th>키</th>\n      <th>국어</th>\n      <th>영어</th>\n      <th>수학</th>\n      <th>과학</th>\n      <th>사회</th>\n      <th>SW특기</th>\n    </tr>\n    <tr>\n      <th>지원번호</th>\n      <th></th>\n      <th></th>\n      <th></th>\n      <th></th>\n      <th></th>\n      <th></th>\n      <th></th>\n      <th></th>\n      <th></th>\n    </tr>\n  </thead>\n  <tbody>\n    <tr>\n      <th>4번</th>\n      <td>서태웅</td>\n      <td>북산고</td>\n      <td>187</td>\n      <td>40</td>\n      <td>60</td>\n      <td>70</td>\n      <td>75</td>\n      <td>80</td>\n      <td>NaN</td>\n    </tr>\n    <tr>\n      <th>5번</th>\n      <td>강백호</td>\n      <td>북산고</td>\n      <td>188</td>\n      <td>15</td>\n      <td>20</td>\n      <td>10</td>\n      <td>35</td>\n      <td>10</td>\n      <td>NaN</td>\n    </tr>\n    <tr>\n      <th>6번</th>\n      <td>변덕규</td>\n      <td>능남고</td>\n      <td>202</td>\n      <td>80</td>\n      <td>100</td>\n      <td>95</td>\n      <td>85</td>\n      <td>80</td>\n      <td>C</td>\n    </tr>\n    <tr>\n      <th>7번</th>\n      <td>황태산</td>\n      <td>능남고</td>\n      <td>188</td>\n      <td>55</td>\n      <td>65</td>\n      <td>45</td>\n      <td>40</td>\n      <td>35</td>\n      <td>PYTHON</td>\n    </tr>\n    <tr>\n      <th>8번</th>\n      <td>윤대협</td>\n      <td>능남고</td>\n      <td>190</td>\n      <td>100</td>\n      <td>85</td>\n      <td>90</td>\n      <td>95</td>\n      <td>95</td>\n      <td>C#</td>\n    </tr>\n  </tbody>\n</table>\n</div>"
     },
     "execution_count": 7,
     "metadata": {},
     "output_type": "execute_result"
    }
   ],
   "source": [
    "df.tail(5)"
   ],
   "metadata": {
    "collapsed": false,
    "pycharm": {
     "name": "#%%\n"
    }
   }
  },
  {
   "cell_type": "code",
   "execution_count": 9,
   "outputs": [
    {
     "data": {
      "text/plain": "array([['채치수', '북산고', 197, 90, 85, 100, 95, 85, 'Python'],\n       ['정대만', '북산고', 184, 40, 35, 50, 55, 25, 'Java'],\n       ['송태섭', '북산고', 168, 80, 75, 70, 80, 75, 'Javascript'],\n       ['서태웅', '북산고', 187, 40, 60, 70, 75, 80, nan],\n       ['강백호', '북산고', 188, 15, 20, 10, 35, 10, nan],\n       ['변덕규', '능남고', 202, 80, 100, 95, 85, 80, 'C'],\n       ['황태산', '능남고', 188, 55, 65, 45, 40, 35, 'PYTHON'],\n       ['윤대협', '능남고', 190, 100, 85, 90, 95, 95, 'C#']], dtype=object)"
     },
     "execution_count": 9,
     "metadata": {},
     "output_type": "execute_result"
    }
   ],
   "source": [
    "df.values"
   ],
   "metadata": {
    "collapsed": false,
    "pycharm": {
     "name": "#%%\n"
    }
   }
  },
  {
   "cell_type": "code",
   "execution_count": 10,
   "outputs": [
    {
     "data": {
      "text/plain": "Index(['1번', '2번', '3번', '4번', '5번', '6번', '7번', '8번'], dtype='object', name='지원번호')"
     },
     "execution_count": 10,
     "metadata": {},
     "output_type": "execute_result"
    }
   ],
   "source": [
    "df.index"
   ],
   "metadata": {
    "collapsed": false,
    "pycharm": {
     "name": "#%%\n"
    }
   }
  },
  {
   "cell_type": "code",
   "execution_count": 11,
   "outputs": [
    {
     "data": {
      "text/plain": "Index(['이름', '학교', '키', '국어', '영어', '수학', '과학', '사회', 'SW특기'], dtype='object')"
     },
     "execution_count": 11,
     "metadata": {},
     "output_type": "execute_result"
    }
   ],
   "source": [
    "df.columns"
   ],
   "metadata": {
    "collapsed": false,
    "pycharm": {
     "name": "#%%\n"
    }
   }
  },
  {
   "cell_type": "code",
   "execution_count": 12,
   "outputs": [
    {
     "data": {
      "text/plain": "(8, 9)"
     },
     "execution_count": 12,
     "metadata": {},
     "output_type": "execute_result"
    }
   ],
   "source": [
    "df.shape"
   ],
   "metadata": {
    "collapsed": false,
    "pycharm": {
     "name": "#%%\n"
    }
   }
  },
  {
   "cell_type": "markdown",
   "source": [
    "## Series 확인"
   ],
   "metadata": {
    "collapsed": false,
    "pycharm": {
     "name": "#%% md\n"
    }
   }
  },
  {
   "cell_type": "code",
   "execution_count": 13,
   "outputs": [
    {
     "data": {
      "text/plain": "count      8.000000\nmean     188.000000\nstd        9.985704\nmin      168.000000\n25%      186.250000\n50%      188.000000\n75%      191.750000\nmax      202.000000\nName: 키, dtype: float64"
     },
     "execution_count": 13,
     "metadata": {},
     "output_type": "execute_result"
    }
   ],
   "source": [
    "df['키'].describe()"
   ],
   "metadata": {
    "collapsed": false,
    "pycharm": {
     "name": "#%%\n"
    }
   }
  },
  {
   "cell_type": "code",
   "execution_count": 14,
   "outputs": [
    {
     "data": {
      "text/plain": "168"
     },
     "execution_count": 14,
     "metadata": {},
     "output_type": "execute_result"
    }
   ],
   "source": [
    "df['키'].min()"
   ],
   "metadata": {
    "collapsed": false,
    "pycharm": {
     "name": "#%%\n"
    }
   }
  },
  {
   "cell_type": "code",
   "execution_count": 15,
   "outputs": [
    {
     "data": {
      "text/plain": "202"
     },
     "execution_count": 15,
     "metadata": {},
     "output_type": "execute_result"
    }
   ],
   "source": [
    "df['키'].max()"
   ],
   "metadata": {
    "collapsed": false,
    "pycharm": {
     "name": "#%%\n"
    }
   }
  },
  {
   "cell_type": "code",
   "execution_count": 16,
   "outputs": [
    {
     "data": {
      "text/plain": "지원번호\n6번    202\n1번    197\n8번    190\nName: 키, dtype: int64"
     },
     "execution_count": 16,
     "metadata": {},
     "output_type": "execute_result"
    }
   ],
   "source": [
    "df['키'].nlargest(3)"
   ],
   "metadata": {
    "collapsed": false,
    "pycharm": {
     "name": "#%%\n"
    }
   }
  },
  {
   "cell_type": "code",
   "execution_count": 17,
   "outputs": [
    {
     "data": {
      "text/plain": "188.0"
     },
     "execution_count": 17,
     "metadata": {},
     "output_type": "execute_result"
    }
   ],
   "source": [
    "df['키'].mean()"
   ],
   "metadata": {
    "collapsed": false,
    "pycharm": {
     "name": "#%%\n"
    }
   }
  },
  {
   "cell_type": "code",
   "execution_count": 18,
   "outputs": [
    {
     "data": {
      "text/plain": "1504"
     },
     "execution_count": 18,
     "metadata": {},
     "output_type": "execute_result"
    }
   ],
   "source": [
    "df['키'].sum()"
   ],
   "metadata": {
    "collapsed": false,
    "pycharm": {
     "name": "#%%\n"
    }
   }
  },
  {
   "cell_type": "code",
   "execution_count": 20,
   "outputs": [
    {
     "data": {
      "text/plain": "6"
     },
     "execution_count": 20,
     "metadata": {},
     "output_type": "execute_result"
    }
   ],
   "source": [
    "df['SW특기'].count()"
   ],
   "metadata": {
    "collapsed": false,
    "pycharm": {
     "name": "#%%\n"
    }
   }
  },
  {
   "cell_type": "code",
   "execution_count": 21,
   "outputs": [
    {
     "data": {
      "text/plain": "array(['북산고', '능남고'], dtype=object)"
     },
     "execution_count": 21,
     "metadata": {},
     "output_type": "execute_result"
    }
   ],
   "source": [
    "df['학교'].unique()"
   ],
   "metadata": {
    "collapsed": false,
    "pycharm": {
     "name": "#%%\n"
    }
   }
  },
  {
   "cell_type": "code",
   "execution_count": 22,
   "outputs": [
    {
     "data": {
      "text/plain": "2"
     },
     "execution_count": 22,
     "metadata": {},
     "output_type": "execute_result"
    }
   ],
   "source": [
    "df['학교'].nunique()"
   ],
   "metadata": {
    "collapsed": false,
    "pycharm": {
     "name": "#%%\n"
    }
   }
  }
 ],
 "metadata": {
  "kernelspec": {
   "display_name": "Python 3 (ipykernel)",
   "language": "python",
   "name": "python3"
  },
  "language_info": {
   "codemirror_mode": {
    "name": "ipython",
    "version": 3
   },
   "file_extension": ".py",
   "mimetype": "text/x-python",
   "name": "python",
   "nbconvert_exporter": "python",
   "pygments_lexer": "ipython3",
   "version": "3.9.12"
  }
 },
 "nbformat": 4,
 "nbformat_minor": 5
}