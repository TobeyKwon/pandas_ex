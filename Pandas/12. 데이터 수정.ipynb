{
 "cells": [
  {
   "cell_type": "markdown",
   "source": [
    "# 12. 데이터 수정"
   ],
   "metadata": {
    "collapsed": false,
    "pycharm": {
     "name": "#%% md\n"
    }
   }
  },
  {
   "cell_type": "code",
   "execution_count": 1,
   "outputs": [
    {
     "data": {
      "text/plain": "       이름   학교    키   국어   영어   수학  과학  사회        SW특기\n지원번호                                                  \n1번    채치수  북산고  197   90   85  100  95  85      Python\n2번    정대만  북산고  184   40   35   50  55  25        Java\n3번    송태섭  북산고  168   80   75   70  80  75  Javascript\n4번    서태웅  북산고  187   40   60   70  75  80         NaN\n5번    강백호  북산고  188   15   20   10  35  10         NaN\n6번    변덕규  능남고  202   80  100   95  85  80           C\n7번    황태산  능남고  188   55   65   45  40  35      PYTHON\n8번    윤대협  능남고  190  100   85   90  95  95          C#",
      "text/html": "<div>\n<style scoped>\n    .dataframe tbody tr th:only-of-type {\n        vertical-align: middle;\n    }\n\n    .dataframe tbody tr th {\n        vertical-align: top;\n    }\n\n    .dataframe thead th {\n        text-align: right;\n    }\n</style>\n<table border=\"1\" class=\"dataframe\">\n  <thead>\n    <tr style=\"text-align: right;\">\n      <th></th>\n      <th>이름</th>\n      <th>학교</th>\n      <th>키</th>\n      <th>국어</th>\n      <th>영어</th>\n      <th>수학</th>\n      <th>과학</th>\n      <th>사회</th>\n      <th>SW특기</th>\n    </tr>\n    <tr>\n      <th>지원번호</th>\n      <th></th>\n      <th></th>\n      <th></th>\n      <th></th>\n      <th></th>\n      <th></th>\n      <th></th>\n      <th></th>\n      <th></th>\n    </tr>\n  </thead>\n  <tbody>\n    <tr>\n      <th>1번</th>\n      <td>채치수</td>\n      <td>북산고</td>\n      <td>197</td>\n      <td>90</td>\n      <td>85</td>\n      <td>100</td>\n      <td>95</td>\n      <td>85</td>\n      <td>Python</td>\n    </tr>\n    <tr>\n      <th>2번</th>\n      <td>정대만</td>\n      <td>북산고</td>\n      <td>184</td>\n      <td>40</td>\n      <td>35</td>\n      <td>50</td>\n      <td>55</td>\n      <td>25</td>\n      <td>Java</td>\n    </tr>\n    <tr>\n      <th>3번</th>\n      <td>송태섭</td>\n      <td>북산고</td>\n      <td>168</td>\n      <td>80</td>\n      <td>75</td>\n      <td>70</td>\n      <td>80</td>\n      <td>75</td>\n      <td>Javascript</td>\n    </tr>\n    <tr>\n      <th>4번</th>\n      <td>서태웅</td>\n      <td>북산고</td>\n      <td>187</td>\n      <td>40</td>\n      <td>60</td>\n      <td>70</td>\n      <td>75</td>\n      <td>80</td>\n      <td>NaN</td>\n    </tr>\n    <tr>\n      <th>5번</th>\n      <td>강백호</td>\n      <td>북산고</td>\n      <td>188</td>\n      <td>15</td>\n      <td>20</td>\n      <td>10</td>\n      <td>35</td>\n      <td>10</td>\n      <td>NaN</td>\n    </tr>\n    <tr>\n      <th>6번</th>\n      <td>변덕규</td>\n      <td>능남고</td>\n      <td>202</td>\n      <td>80</td>\n      <td>100</td>\n      <td>95</td>\n      <td>85</td>\n      <td>80</td>\n      <td>C</td>\n    </tr>\n    <tr>\n      <th>7번</th>\n      <td>황태산</td>\n      <td>능남고</td>\n      <td>188</td>\n      <td>55</td>\n      <td>65</td>\n      <td>45</td>\n      <td>40</td>\n      <td>35</td>\n      <td>PYTHON</td>\n    </tr>\n    <tr>\n      <th>8번</th>\n      <td>윤대협</td>\n      <td>능남고</td>\n      <td>190</td>\n      <td>100</td>\n      <td>85</td>\n      <td>90</td>\n      <td>95</td>\n      <td>95</td>\n      <td>C#</td>\n    </tr>\n  </tbody>\n</table>\n</div>"
     },
     "execution_count": 1,
     "metadata": {},
     "output_type": "execute_result"
    }
   ],
   "source": [
    "import pandas as pd\n",
    "df = pd.read_excel('score.xlsx', index_col='지원번호')\n",
    "df"
   ],
   "metadata": {
    "collapsed": false,
    "pycharm": {
     "name": "#%%\n"
    }
   }
  },
  {
   "cell_type": "markdown",
   "source": [
    "## Column 수정"
   ],
   "metadata": {
    "collapsed": false,
    "pycharm": {
     "name": "#%% md\n"
    }
   }
  },
  {
   "cell_type": "code",
   "execution_count": 2,
   "outputs": [
    {
     "data": {
      "text/plain": "지원번호\n1번    상북고\n2번    상북고\n3번    상북고\n4번    상북고\n5번    상북고\n6번    무슨고\n7번    무슨고\n8번    무슨고\nName: 학교, dtype: object"
     },
     "execution_count": 2,
     "metadata": {},
     "output_type": "execute_result"
    }
   ],
   "source": [
    "df['학교'].replace({'북산고':'상북고', '능남고': '무슨고'})"
   ],
   "metadata": {
    "collapsed": false,
    "pycharm": {
     "name": "#%%\n"
    }
   }
  },
  {
   "cell_type": "code",
   "execution_count": 3,
   "outputs": [
    {
     "data": {
      "text/plain": "       이름   학교    키   국어   영어   수학  과학  사회        SW특기\n지원번호                                                  \n1번    채치수  상북고  197   90   85  100  95  85      Python\n2번    정대만  상북고  184   40   35   50  55  25        Java\n3번    송태섭  상북고  168   80   75   70  80  75  Javascript\n4번    서태웅  상북고  187   40   60   70  75  80         NaN\n5번    강백호  상북고  188   15   20   10  35  10         NaN\n6번    변덕규  능남고  202   80  100   95  85  80           C\n7번    황태산  능남고  188   55   65   45  40  35      PYTHON\n8번    윤대협  능남고  190  100   85   90  95  95          C#",
      "text/html": "<div>\n<style scoped>\n    .dataframe tbody tr th:only-of-type {\n        vertical-align: middle;\n    }\n\n    .dataframe tbody tr th {\n        vertical-align: top;\n    }\n\n    .dataframe thead th {\n        text-align: right;\n    }\n</style>\n<table border=\"1\" class=\"dataframe\">\n  <thead>\n    <tr style=\"text-align: right;\">\n      <th></th>\n      <th>이름</th>\n      <th>학교</th>\n      <th>키</th>\n      <th>국어</th>\n      <th>영어</th>\n      <th>수학</th>\n      <th>과학</th>\n      <th>사회</th>\n      <th>SW특기</th>\n    </tr>\n    <tr>\n      <th>지원번호</th>\n      <th></th>\n      <th></th>\n      <th></th>\n      <th></th>\n      <th></th>\n      <th></th>\n      <th></th>\n      <th></th>\n      <th></th>\n    </tr>\n  </thead>\n  <tbody>\n    <tr>\n      <th>1번</th>\n      <td>채치수</td>\n      <td>상북고</td>\n      <td>197</td>\n      <td>90</td>\n      <td>85</td>\n      <td>100</td>\n      <td>95</td>\n      <td>85</td>\n      <td>Python</td>\n    </tr>\n    <tr>\n      <th>2번</th>\n      <td>정대만</td>\n      <td>상북고</td>\n      <td>184</td>\n      <td>40</td>\n      <td>35</td>\n      <td>50</td>\n      <td>55</td>\n      <td>25</td>\n      <td>Java</td>\n    </tr>\n    <tr>\n      <th>3번</th>\n      <td>송태섭</td>\n      <td>상북고</td>\n      <td>168</td>\n      <td>80</td>\n      <td>75</td>\n      <td>70</td>\n      <td>80</td>\n      <td>75</td>\n      <td>Javascript</td>\n    </tr>\n    <tr>\n      <th>4번</th>\n      <td>서태웅</td>\n      <td>상북고</td>\n      <td>187</td>\n      <td>40</td>\n      <td>60</td>\n      <td>70</td>\n      <td>75</td>\n      <td>80</td>\n      <td>NaN</td>\n    </tr>\n    <tr>\n      <th>5번</th>\n      <td>강백호</td>\n      <td>상북고</td>\n      <td>188</td>\n      <td>15</td>\n      <td>20</td>\n      <td>10</td>\n      <td>35</td>\n      <td>10</td>\n      <td>NaN</td>\n    </tr>\n    <tr>\n      <th>6번</th>\n      <td>변덕규</td>\n      <td>능남고</td>\n      <td>202</td>\n      <td>80</td>\n      <td>100</td>\n      <td>95</td>\n      <td>85</td>\n      <td>80</td>\n      <td>C</td>\n    </tr>\n    <tr>\n      <th>7번</th>\n      <td>황태산</td>\n      <td>능남고</td>\n      <td>188</td>\n      <td>55</td>\n      <td>65</td>\n      <td>45</td>\n      <td>40</td>\n      <td>35</td>\n      <td>PYTHON</td>\n    </tr>\n    <tr>\n      <th>8번</th>\n      <td>윤대협</td>\n      <td>능남고</td>\n      <td>190</td>\n      <td>100</td>\n      <td>85</td>\n      <td>90</td>\n      <td>95</td>\n      <td>95</td>\n      <td>C#</td>\n    </tr>\n  </tbody>\n</table>\n</div>"
     },
     "execution_count": 3,
     "metadata": {},
     "output_type": "execute_result"
    }
   ],
   "source": [
    "df['학교'].replace({'북산고':'상북고'}, inplace=True)\n",
    "df"
   ],
   "metadata": {
    "collapsed": false,
    "pycharm": {
     "name": "#%%\n"
    }
   }
  },
  {
   "cell_type": "code",
   "execution_count": 4,
   "outputs": [
    {
     "data": {
      "text/plain": "지원번호\n1번        python\n2번          java\n3번    javascript\n4번           NaN\n5번           NaN\n6번             c\n7번        python\n8번            c#\nName: SW특기, dtype: object"
     },
     "execution_count": 4,
     "metadata": {},
     "output_type": "execute_result"
    }
   ],
   "source": [
    "df['SW특기'].str.lower()"
   ],
   "metadata": {
    "collapsed": false,
    "pycharm": {
     "name": "#%%\n"
    }
   }
  },
  {
   "cell_type": "code",
   "execution_count": 5,
   "outputs": [
    {
     "data": {
      "text/plain": "       이름   학교    키   국어   영어   수학  과학  사회        SW특기\n지원번호                                                  \n1번    채치수  상북고  197   90   85  100  95  85      python\n2번    정대만  상북고  184   40   35   50  55  25        java\n3번    송태섭  상북고  168   80   75   70  80  75  javascript\n4번    서태웅  상북고  187   40   60   70  75  80         NaN\n5번    강백호  상북고  188   15   20   10  35  10         NaN\n6번    변덕규  능남고  202   80  100   95  85  80           c\n7번    황태산  능남고  188   55   65   45  40  35      python\n8번    윤대협  능남고  190  100   85   90  95  95          c#",
      "text/html": "<div>\n<style scoped>\n    .dataframe tbody tr th:only-of-type {\n        vertical-align: middle;\n    }\n\n    .dataframe tbody tr th {\n        vertical-align: top;\n    }\n\n    .dataframe thead th {\n        text-align: right;\n    }\n</style>\n<table border=\"1\" class=\"dataframe\">\n  <thead>\n    <tr style=\"text-align: right;\">\n      <th></th>\n      <th>이름</th>\n      <th>학교</th>\n      <th>키</th>\n      <th>국어</th>\n      <th>영어</th>\n      <th>수학</th>\n      <th>과학</th>\n      <th>사회</th>\n      <th>SW특기</th>\n    </tr>\n    <tr>\n      <th>지원번호</th>\n      <th></th>\n      <th></th>\n      <th></th>\n      <th></th>\n      <th></th>\n      <th></th>\n      <th></th>\n      <th></th>\n      <th></th>\n    </tr>\n  </thead>\n  <tbody>\n    <tr>\n      <th>1번</th>\n      <td>채치수</td>\n      <td>상북고</td>\n      <td>197</td>\n      <td>90</td>\n      <td>85</td>\n      <td>100</td>\n      <td>95</td>\n      <td>85</td>\n      <td>python</td>\n    </tr>\n    <tr>\n      <th>2번</th>\n      <td>정대만</td>\n      <td>상북고</td>\n      <td>184</td>\n      <td>40</td>\n      <td>35</td>\n      <td>50</td>\n      <td>55</td>\n      <td>25</td>\n      <td>java</td>\n    </tr>\n    <tr>\n      <th>3번</th>\n      <td>송태섭</td>\n      <td>상북고</td>\n      <td>168</td>\n      <td>80</td>\n      <td>75</td>\n      <td>70</td>\n      <td>80</td>\n      <td>75</td>\n      <td>javascript</td>\n    </tr>\n    <tr>\n      <th>4번</th>\n      <td>서태웅</td>\n      <td>상북고</td>\n      <td>187</td>\n      <td>40</td>\n      <td>60</td>\n      <td>70</td>\n      <td>75</td>\n      <td>80</td>\n      <td>NaN</td>\n    </tr>\n    <tr>\n      <th>5번</th>\n      <td>강백호</td>\n      <td>상북고</td>\n      <td>188</td>\n      <td>15</td>\n      <td>20</td>\n      <td>10</td>\n      <td>35</td>\n      <td>10</td>\n      <td>NaN</td>\n    </tr>\n    <tr>\n      <th>6번</th>\n      <td>변덕규</td>\n      <td>능남고</td>\n      <td>202</td>\n      <td>80</td>\n      <td>100</td>\n      <td>95</td>\n      <td>85</td>\n      <td>80</td>\n      <td>c</td>\n    </tr>\n    <tr>\n      <th>7번</th>\n      <td>황태산</td>\n      <td>능남고</td>\n      <td>188</td>\n      <td>55</td>\n      <td>65</td>\n      <td>45</td>\n      <td>40</td>\n      <td>35</td>\n      <td>python</td>\n    </tr>\n    <tr>\n      <th>8번</th>\n      <td>윤대협</td>\n      <td>능남고</td>\n      <td>190</td>\n      <td>100</td>\n      <td>85</td>\n      <td>90</td>\n      <td>95</td>\n      <td>95</td>\n      <td>c#</td>\n    </tr>\n  </tbody>\n</table>\n</div>"
     },
     "execution_count": 5,
     "metadata": {},
     "output_type": "execute_result"
    }
   ],
   "source": [
    "df[\"SW특기\"] = df[\"SW특기\"].str.lower()\n",
    "df"
   ],
   "metadata": {
    "collapsed": false,
    "pycharm": {
     "name": "#%%\n"
    }
   }
  },
  {
   "cell_type": "code",
   "execution_count": 6,
   "outputs": [
    {
     "data": {
      "text/plain": "       이름   학교    키   국어   영어   수학  과학  사회        SW특기\n지원번호                                                  \n1번    채치수  상북고  197   90   85  100  95  85      PYTHON\n2번    정대만  상북고  184   40   35   50  55  25        JAVA\n3번    송태섭  상북고  168   80   75   70  80  75  JAVASCRIPT\n4번    서태웅  상북고  187   40   60   70  75  80         NaN\n5번    강백호  상북고  188   15   20   10  35  10         NaN\n6번    변덕규  능남고  202   80  100   95  85  80           C\n7번    황태산  능남고  188   55   65   45  40  35      PYTHON\n8번    윤대협  능남고  190  100   85   90  95  95          C#",
      "text/html": "<div>\n<style scoped>\n    .dataframe tbody tr th:only-of-type {\n        vertical-align: middle;\n    }\n\n    .dataframe tbody tr th {\n        vertical-align: top;\n    }\n\n    .dataframe thead th {\n        text-align: right;\n    }\n</style>\n<table border=\"1\" class=\"dataframe\">\n  <thead>\n    <tr style=\"text-align: right;\">\n      <th></th>\n      <th>이름</th>\n      <th>학교</th>\n      <th>키</th>\n      <th>국어</th>\n      <th>영어</th>\n      <th>수학</th>\n      <th>과학</th>\n      <th>사회</th>\n      <th>SW특기</th>\n    </tr>\n    <tr>\n      <th>지원번호</th>\n      <th></th>\n      <th></th>\n      <th></th>\n      <th></th>\n      <th></th>\n      <th></th>\n      <th></th>\n      <th></th>\n      <th></th>\n    </tr>\n  </thead>\n  <tbody>\n    <tr>\n      <th>1번</th>\n      <td>채치수</td>\n      <td>상북고</td>\n      <td>197</td>\n      <td>90</td>\n      <td>85</td>\n      <td>100</td>\n      <td>95</td>\n      <td>85</td>\n      <td>PYTHON</td>\n    </tr>\n    <tr>\n      <th>2번</th>\n      <td>정대만</td>\n      <td>상북고</td>\n      <td>184</td>\n      <td>40</td>\n      <td>35</td>\n      <td>50</td>\n      <td>55</td>\n      <td>25</td>\n      <td>JAVA</td>\n    </tr>\n    <tr>\n      <th>3번</th>\n      <td>송태섭</td>\n      <td>상북고</td>\n      <td>168</td>\n      <td>80</td>\n      <td>75</td>\n      <td>70</td>\n      <td>80</td>\n      <td>75</td>\n      <td>JAVASCRIPT</td>\n    </tr>\n    <tr>\n      <th>4번</th>\n      <td>서태웅</td>\n      <td>상북고</td>\n      <td>187</td>\n      <td>40</td>\n      <td>60</td>\n      <td>70</td>\n      <td>75</td>\n      <td>80</td>\n      <td>NaN</td>\n    </tr>\n    <tr>\n      <th>5번</th>\n      <td>강백호</td>\n      <td>상북고</td>\n      <td>188</td>\n      <td>15</td>\n      <td>20</td>\n      <td>10</td>\n      <td>35</td>\n      <td>10</td>\n      <td>NaN</td>\n    </tr>\n    <tr>\n      <th>6번</th>\n      <td>변덕규</td>\n      <td>능남고</td>\n      <td>202</td>\n      <td>80</td>\n      <td>100</td>\n      <td>95</td>\n      <td>85</td>\n      <td>80</td>\n      <td>C</td>\n    </tr>\n    <tr>\n      <th>7번</th>\n      <td>황태산</td>\n      <td>능남고</td>\n      <td>188</td>\n      <td>55</td>\n      <td>65</td>\n      <td>45</td>\n      <td>40</td>\n      <td>35</td>\n      <td>PYTHON</td>\n    </tr>\n    <tr>\n      <th>8번</th>\n      <td>윤대협</td>\n      <td>능남고</td>\n      <td>190</td>\n      <td>100</td>\n      <td>85</td>\n      <td>90</td>\n      <td>95</td>\n      <td>95</td>\n      <td>C#</td>\n    </tr>\n  </tbody>\n</table>\n</div>"
     },
     "execution_count": 6,
     "metadata": {},
     "output_type": "execute_result"
    }
   ],
   "source": [
    "df[\"SW특기\"] = df[\"SW특기\"].str.upper()\n",
    "df"
   ],
   "metadata": {
    "collapsed": false,
    "pycharm": {
     "name": "#%%\n"
    }
   }
  },
  {
   "cell_type": "code",
   "execution_count": 8,
   "outputs": [
    {
     "data": {
      "text/plain": "       이름         학교    키   국어   영어   수학  과학  사회        SW특기\n지원번호                                                        \n1번    채치수  상북고등학교등학교  197   90   85  100  95  85      PYTHON\n2번    정대만  상북고등학교등학교  184   40   35   50  55  25        JAVA\n3번    송태섭  상북고등학교등학교  168   80   75   70  80  75  JAVASCRIPT\n4번    서태웅  상북고등학교등학교  187   40   60   70  75  80         NaN\n5번    강백호  상북고등학교등학교  188   15   20   10  35  10         NaN\n6번    변덕규  능남고등학교등학교  202   80  100   95  85  80           C\n7번    황태산  능남고등학교등학교  188   55   65   45  40  35      PYTHON\n8번    윤대협  능남고등학교등학교  190  100   85   90  95  95          C#",
      "text/html": "<div>\n<style scoped>\n    .dataframe tbody tr th:only-of-type {\n        vertical-align: middle;\n    }\n\n    .dataframe tbody tr th {\n        vertical-align: top;\n    }\n\n    .dataframe thead th {\n        text-align: right;\n    }\n</style>\n<table border=\"1\" class=\"dataframe\">\n  <thead>\n    <tr style=\"text-align: right;\">\n      <th></th>\n      <th>이름</th>\n      <th>학교</th>\n      <th>키</th>\n      <th>국어</th>\n      <th>영어</th>\n      <th>수학</th>\n      <th>과학</th>\n      <th>사회</th>\n      <th>SW특기</th>\n    </tr>\n    <tr>\n      <th>지원번호</th>\n      <th></th>\n      <th></th>\n      <th></th>\n      <th></th>\n      <th></th>\n      <th></th>\n      <th></th>\n      <th></th>\n      <th></th>\n    </tr>\n  </thead>\n  <tbody>\n    <tr>\n      <th>1번</th>\n      <td>채치수</td>\n      <td>상북고등학교등학교</td>\n      <td>197</td>\n      <td>90</td>\n      <td>85</td>\n      <td>100</td>\n      <td>95</td>\n      <td>85</td>\n      <td>PYTHON</td>\n    </tr>\n    <tr>\n      <th>2번</th>\n      <td>정대만</td>\n      <td>상북고등학교등학교</td>\n      <td>184</td>\n      <td>40</td>\n      <td>35</td>\n      <td>50</td>\n      <td>55</td>\n      <td>25</td>\n      <td>JAVA</td>\n    </tr>\n    <tr>\n      <th>3번</th>\n      <td>송태섭</td>\n      <td>상북고등학교등학교</td>\n      <td>168</td>\n      <td>80</td>\n      <td>75</td>\n      <td>70</td>\n      <td>80</td>\n      <td>75</td>\n      <td>JAVASCRIPT</td>\n    </tr>\n    <tr>\n      <th>4번</th>\n      <td>서태웅</td>\n      <td>상북고등학교등학교</td>\n      <td>187</td>\n      <td>40</td>\n      <td>60</td>\n      <td>70</td>\n      <td>75</td>\n      <td>80</td>\n      <td>NaN</td>\n    </tr>\n    <tr>\n      <th>5번</th>\n      <td>강백호</td>\n      <td>상북고등학교등학교</td>\n      <td>188</td>\n      <td>15</td>\n      <td>20</td>\n      <td>10</td>\n      <td>35</td>\n      <td>10</td>\n      <td>NaN</td>\n    </tr>\n    <tr>\n      <th>6번</th>\n      <td>변덕규</td>\n      <td>능남고등학교등학교</td>\n      <td>202</td>\n      <td>80</td>\n      <td>100</td>\n      <td>95</td>\n      <td>85</td>\n      <td>80</td>\n      <td>C</td>\n    </tr>\n    <tr>\n      <th>7번</th>\n      <td>황태산</td>\n      <td>능남고등학교등학교</td>\n      <td>188</td>\n      <td>55</td>\n      <td>65</td>\n      <td>45</td>\n      <td>40</td>\n      <td>35</td>\n      <td>PYTHON</td>\n    </tr>\n    <tr>\n      <th>8번</th>\n      <td>윤대협</td>\n      <td>능남고등학교등학교</td>\n      <td>190</td>\n      <td>100</td>\n      <td>85</td>\n      <td>90</td>\n      <td>95</td>\n      <td>95</td>\n      <td>C#</td>\n    </tr>\n  </tbody>\n</table>\n</div>"
     },
     "execution_count": 8,
     "metadata": {},
     "output_type": "execute_result"
    }
   ],
   "source": [
    "df['학교'] = df['학교'] + '등학교' # 학교 데이터 + 등학교\n",
    "df"
   ],
   "metadata": {
    "collapsed": false,
    "pycharm": {
     "name": "#%%\n"
    }
   }
  },
  {
   "cell_type": "markdown",
   "source": [
    "## Column 추가"
   ],
   "metadata": {
    "collapsed": false,
    "pycharm": {
     "name": "#%% md\n"
    }
   }
  },
  {
   "cell_type": "code",
   "execution_count": 10,
   "outputs": [
    {
     "data": {
      "text/plain": "       이름         학교    키   국어   영어   수학  과학  사회        SW특기   총합\n지원번호                                                             \n1번    채치수  상북고등학교등학교  197   90   85  100  95  85      PYTHON  455\n2번    정대만  상북고등학교등학교  184   40   35   50  55  25        JAVA  205\n3번    송태섭  상북고등학교등학교  168   80   75   70  80  75  JAVASCRIPT  380\n4번    서태웅  상북고등학교등학교  187   40   60   70  75  80         NaN  325\n5번    강백호  상북고등학교등학교  188   15   20   10  35  10         NaN   90\n6번    변덕규  능남고등학교등학교  202   80  100   95  85  80           C  440\n7번    황태산  능남고등학교등학교  188   55   65   45  40  35      PYTHON  240\n8번    윤대협  능남고등학교등학교  190  100   85   90  95  95          C#  465",
      "text/html": "<div>\n<style scoped>\n    .dataframe tbody tr th:only-of-type {\n        vertical-align: middle;\n    }\n\n    .dataframe tbody tr th {\n        vertical-align: top;\n    }\n\n    .dataframe thead th {\n        text-align: right;\n    }\n</style>\n<table border=\"1\" class=\"dataframe\">\n  <thead>\n    <tr style=\"text-align: right;\">\n      <th></th>\n      <th>이름</th>\n      <th>학교</th>\n      <th>키</th>\n      <th>국어</th>\n      <th>영어</th>\n      <th>수학</th>\n      <th>과학</th>\n      <th>사회</th>\n      <th>SW특기</th>\n      <th>총합</th>\n    </tr>\n    <tr>\n      <th>지원번호</th>\n      <th></th>\n      <th></th>\n      <th></th>\n      <th></th>\n      <th></th>\n      <th></th>\n      <th></th>\n      <th></th>\n      <th></th>\n      <th></th>\n    </tr>\n  </thead>\n  <tbody>\n    <tr>\n      <th>1번</th>\n      <td>채치수</td>\n      <td>상북고등학교등학교</td>\n      <td>197</td>\n      <td>90</td>\n      <td>85</td>\n      <td>100</td>\n      <td>95</td>\n      <td>85</td>\n      <td>PYTHON</td>\n      <td>455</td>\n    </tr>\n    <tr>\n      <th>2번</th>\n      <td>정대만</td>\n      <td>상북고등학교등학교</td>\n      <td>184</td>\n      <td>40</td>\n      <td>35</td>\n      <td>50</td>\n      <td>55</td>\n      <td>25</td>\n      <td>JAVA</td>\n      <td>205</td>\n    </tr>\n    <tr>\n      <th>3번</th>\n      <td>송태섭</td>\n      <td>상북고등학교등학교</td>\n      <td>168</td>\n      <td>80</td>\n      <td>75</td>\n      <td>70</td>\n      <td>80</td>\n      <td>75</td>\n      <td>JAVASCRIPT</td>\n      <td>380</td>\n    </tr>\n    <tr>\n      <th>4번</th>\n      <td>서태웅</td>\n      <td>상북고등학교등학교</td>\n      <td>187</td>\n      <td>40</td>\n      <td>60</td>\n      <td>70</td>\n      <td>75</td>\n      <td>80</td>\n      <td>NaN</td>\n      <td>325</td>\n    </tr>\n    <tr>\n      <th>5번</th>\n      <td>강백호</td>\n      <td>상북고등학교등학교</td>\n      <td>188</td>\n      <td>15</td>\n      <td>20</td>\n      <td>10</td>\n      <td>35</td>\n      <td>10</td>\n      <td>NaN</td>\n      <td>90</td>\n    </tr>\n    <tr>\n      <th>6번</th>\n      <td>변덕규</td>\n      <td>능남고등학교등학교</td>\n      <td>202</td>\n      <td>80</td>\n      <td>100</td>\n      <td>95</td>\n      <td>85</td>\n      <td>80</td>\n      <td>C</td>\n      <td>440</td>\n    </tr>\n    <tr>\n      <th>7번</th>\n      <td>황태산</td>\n      <td>능남고등학교등학교</td>\n      <td>188</td>\n      <td>55</td>\n      <td>65</td>\n      <td>45</td>\n      <td>40</td>\n      <td>35</td>\n      <td>PYTHON</td>\n      <td>240</td>\n    </tr>\n    <tr>\n      <th>8번</th>\n      <td>윤대협</td>\n      <td>능남고등학교등학교</td>\n      <td>190</td>\n      <td>100</td>\n      <td>85</td>\n      <td>90</td>\n      <td>95</td>\n      <td>95</td>\n      <td>C#</td>\n      <td>465</td>\n    </tr>\n  </tbody>\n</table>\n</div>"
     },
     "execution_count": 10,
     "metadata": {},
     "output_type": "execute_result"
    }
   ],
   "source": [
    "df['총합'] = df['국어'] + df['영어'] + df['수학'] + df['과학'] + df['사회']\n",
    "df"
   ],
   "metadata": {
    "collapsed": false,
    "pycharm": {
     "name": "#%%\n"
    }
   }
  },
  {
   "cell_type": "code",
   "execution_count": 12,
   "outputs": [
    {
     "data": {
      "text/plain": "       이름         학교    키   국어   영어   수학  과학  사회        SW특기   총합    결과\n지원번호                                                                   \n1번    채치수  상북고등학교등학교  197   90   85  100  95  85      PYTHON  455  Fail\n2번    정대만  상북고등학교등학교  184   40   35   50  55  25        JAVA  205  Fail\n3번    송태섭  상북고등학교등학교  168   80   75   70  80  75  JAVASCRIPT  380  Fail\n4번    서태웅  상북고등학교등학교  187   40   60   70  75  80         NaN  325  Fail\n5번    강백호  상북고등학교등학교  188   15   20   10  35  10         NaN   90  Fail\n6번    변덕규  능남고등학교등학교  202   80  100   95  85  80           C  440  Fail\n7번    황태산  능남고등학교등학교  188   55   65   45  40  35      PYTHON  240  Fail\n8번    윤대협  능남고등학교등학교  190  100   85   90  95  95          C#  465  Fail",
      "text/html": "<div>\n<style scoped>\n    .dataframe tbody tr th:only-of-type {\n        vertical-align: middle;\n    }\n\n    .dataframe tbody tr th {\n        vertical-align: top;\n    }\n\n    .dataframe thead th {\n        text-align: right;\n    }\n</style>\n<table border=\"1\" class=\"dataframe\">\n  <thead>\n    <tr style=\"text-align: right;\">\n      <th></th>\n      <th>이름</th>\n      <th>학교</th>\n      <th>키</th>\n      <th>국어</th>\n      <th>영어</th>\n      <th>수학</th>\n      <th>과학</th>\n      <th>사회</th>\n      <th>SW특기</th>\n      <th>총합</th>\n      <th>결과</th>\n    </tr>\n    <tr>\n      <th>지원번호</th>\n      <th></th>\n      <th></th>\n      <th></th>\n      <th></th>\n      <th></th>\n      <th></th>\n      <th></th>\n      <th></th>\n      <th></th>\n      <th></th>\n      <th></th>\n    </tr>\n  </thead>\n  <tbody>\n    <tr>\n      <th>1번</th>\n      <td>채치수</td>\n      <td>상북고등학교등학교</td>\n      <td>197</td>\n      <td>90</td>\n      <td>85</td>\n      <td>100</td>\n      <td>95</td>\n      <td>85</td>\n      <td>PYTHON</td>\n      <td>455</td>\n      <td>Fail</td>\n    </tr>\n    <tr>\n      <th>2번</th>\n      <td>정대만</td>\n      <td>상북고등학교등학교</td>\n      <td>184</td>\n      <td>40</td>\n      <td>35</td>\n      <td>50</td>\n      <td>55</td>\n      <td>25</td>\n      <td>JAVA</td>\n      <td>205</td>\n      <td>Fail</td>\n    </tr>\n    <tr>\n      <th>3번</th>\n      <td>송태섭</td>\n      <td>상북고등학교등학교</td>\n      <td>168</td>\n      <td>80</td>\n      <td>75</td>\n      <td>70</td>\n      <td>80</td>\n      <td>75</td>\n      <td>JAVASCRIPT</td>\n      <td>380</td>\n      <td>Fail</td>\n    </tr>\n    <tr>\n      <th>4번</th>\n      <td>서태웅</td>\n      <td>상북고등학교등학교</td>\n      <td>187</td>\n      <td>40</td>\n      <td>60</td>\n      <td>70</td>\n      <td>75</td>\n      <td>80</td>\n      <td>NaN</td>\n      <td>325</td>\n      <td>Fail</td>\n    </tr>\n    <tr>\n      <th>5번</th>\n      <td>강백호</td>\n      <td>상북고등학교등학교</td>\n      <td>188</td>\n      <td>15</td>\n      <td>20</td>\n      <td>10</td>\n      <td>35</td>\n      <td>10</td>\n      <td>NaN</td>\n      <td>90</td>\n      <td>Fail</td>\n    </tr>\n    <tr>\n      <th>6번</th>\n      <td>변덕규</td>\n      <td>능남고등학교등학교</td>\n      <td>202</td>\n      <td>80</td>\n      <td>100</td>\n      <td>95</td>\n      <td>85</td>\n      <td>80</td>\n      <td>C</td>\n      <td>440</td>\n      <td>Fail</td>\n    </tr>\n    <tr>\n      <th>7번</th>\n      <td>황태산</td>\n      <td>능남고등학교등학교</td>\n      <td>188</td>\n      <td>55</td>\n      <td>65</td>\n      <td>45</td>\n      <td>40</td>\n      <td>35</td>\n      <td>PYTHON</td>\n      <td>240</td>\n      <td>Fail</td>\n    </tr>\n    <tr>\n      <th>8번</th>\n      <td>윤대협</td>\n      <td>능남고등학교등학교</td>\n      <td>190</td>\n      <td>100</td>\n      <td>85</td>\n      <td>90</td>\n      <td>95</td>\n      <td>95</td>\n      <td>C#</td>\n      <td>465</td>\n      <td>Fail</td>\n    </tr>\n  </tbody>\n</table>\n</div>"
     },
     "execution_count": 12,
     "metadata": {},
     "output_type": "execute_result"
    }
   ],
   "source": [
    "df['결과'] = 'Fail' # 결과 Column 을 추가하고 전체 데이터는 Fail 로 초기화\n",
    "df"
   ],
   "metadata": {
    "collapsed": false,
    "pycharm": {
     "name": "#%%\n"
    }
   }
  },
  {
   "cell_type": "code",
   "execution_count": 16,
   "outputs": [],
   "source": [
    "df.loc[df['총합'] > 400, \"결과\"] = 'Pass'"
   ],
   "metadata": {
    "collapsed": false,
    "pycharm": {
     "name": "#%%\n"
    }
   }
  },
  {
   "cell_type": "code",
   "execution_count": 17,
   "outputs": [
    {
     "data": {
      "text/plain": "       이름         학교    키   국어   영어   수학  과학  사회        SW특기   총합    결과\n지원번호                                                                   \n1번    채치수  상북고등학교등학교  197   90   85  100  95  85      PYTHON  455  Pass\n2번    정대만  상북고등학교등학교  184   40   35   50  55  25        JAVA  205  Fail\n3번    송태섭  상북고등학교등학교  168   80   75   70  80  75  JAVASCRIPT  380  Fail\n4번    서태웅  상북고등학교등학교  187   40   60   70  75  80         NaN  325  Fail\n5번    강백호  상북고등학교등학교  188   15   20   10  35  10         NaN   90  Fail\n6번    변덕규  능남고등학교등학교  202   80  100   95  85  80           C  440  Pass\n7번    황태산  능남고등학교등학교  188   55   65   45  40  35      PYTHON  240  Fail\n8번    윤대협  능남고등학교등학교  190  100   85   90  95  95          C#  465  Pass",
      "text/html": "<div>\n<style scoped>\n    .dataframe tbody tr th:only-of-type {\n        vertical-align: middle;\n    }\n\n    .dataframe tbody tr th {\n        vertical-align: top;\n    }\n\n    .dataframe thead th {\n        text-align: right;\n    }\n</style>\n<table border=\"1\" class=\"dataframe\">\n  <thead>\n    <tr style=\"text-align: right;\">\n      <th></th>\n      <th>이름</th>\n      <th>학교</th>\n      <th>키</th>\n      <th>국어</th>\n      <th>영어</th>\n      <th>수학</th>\n      <th>과학</th>\n      <th>사회</th>\n      <th>SW특기</th>\n      <th>총합</th>\n      <th>결과</th>\n    </tr>\n    <tr>\n      <th>지원번호</th>\n      <th></th>\n      <th></th>\n      <th></th>\n      <th></th>\n      <th></th>\n      <th></th>\n      <th></th>\n      <th></th>\n      <th></th>\n      <th></th>\n      <th></th>\n    </tr>\n  </thead>\n  <tbody>\n    <tr>\n      <th>1번</th>\n      <td>채치수</td>\n      <td>상북고등학교등학교</td>\n      <td>197</td>\n      <td>90</td>\n      <td>85</td>\n      <td>100</td>\n      <td>95</td>\n      <td>85</td>\n      <td>PYTHON</td>\n      <td>455</td>\n      <td>Pass</td>\n    </tr>\n    <tr>\n      <th>2번</th>\n      <td>정대만</td>\n      <td>상북고등학교등학교</td>\n      <td>184</td>\n      <td>40</td>\n      <td>35</td>\n      <td>50</td>\n      <td>55</td>\n      <td>25</td>\n      <td>JAVA</td>\n      <td>205</td>\n      <td>Fail</td>\n    </tr>\n    <tr>\n      <th>3번</th>\n      <td>송태섭</td>\n      <td>상북고등학교등학교</td>\n      <td>168</td>\n      <td>80</td>\n      <td>75</td>\n      <td>70</td>\n      <td>80</td>\n      <td>75</td>\n      <td>JAVASCRIPT</td>\n      <td>380</td>\n      <td>Fail</td>\n    </tr>\n    <tr>\n      <th>4번</th>\n      <td>서태웅</td>\n      <td>상북고등학교등학교</td>\n      <td>187</td>\n      <td>40</td>\n      <td>60</td>\n      <td>70</td>\n      <td>75</td>\n      <td>80</td>\n      <td>NaN</td>\n      <td>325</td>\n      <td>Fail</td>\n    </tr>\n    <tr>\n      <th>5번</th>\n      <td>강백호</td>\n      <td>상북고등학교등학교</td>\n      <td>188</td>\n      <td>15</td>\n      <td>20</td>\n      <td>10</td>\n      <td>35</td>\n      <td>10</td>\n      <td>NaN</td>\n      <td>90</td>\n      <td>Fail</td>\n    </tr>\n    <tr>\n      <th>6번</th>\n      <td>변덕규</td>\n      <td>능남고등학교등학교</td>\n      <td>202</td>\n      <td>80</td>\n      <td>100</td>\n      <td>95</td>\n      <td>85</td>\n      <td>80</td>\n      <td>C</td>\n      <td>440</td>\n      <td>Pass</td>\n    </tr>\n    <tr>\n      <th>7번</th>\n      <td>황태산</td>\n      <td>능남고등학교등학교</td>\n      <td>188</td>\n      <td>55</td>\n      <td>65</td>\n      <td>45</td>\n      <td>40</td>\n      <td>35</td>\n      <td>PYTHON</td>\n      <td>240</td>\n      <td>Fail</td>\n    </tr>\n    <tr>\n      <th>8번</th>\n      <td>윤대협</td>\n      <td>능남고등학교등학교</td>\n      <td>190</td>\n      <td>100</td>\n      <td>85</td>\n      <td>90</td>\n      <td>95</td>\n      <td>95</td>\n      <td>C#</td>\n      <td>465</td>\n      <td>Pass</td>\n    </tr>\n  </tbody>\n</table>\n</div>"
     },
     "execution_count": 17,
     "metadata": {},
     "output_type": "execute_result"
    }
   ],
   "source": [
    "df"
   ],
   "metadata": {
    "collapsed": false,
    "pycharm": {
     "name": "#%%\n"
    }
   }
  },
  {
   "cell_type": "markdown",
   "source": [
    "## Column 삭제"
   ],
   "metadata": {
    "collapsed": false,
    "pycharm": {
     "name": "#%% md\n"
    }
   }
  },
  {
   "cell_type": "code",
   "execution_count": 18,
   "outputs": [
    {
     "data": {
      "text/plain": "       이름         학교    키   국어   영어   수학  과학  사회        SW특기    결과\n지원번호                                                              \n1번    채치수  상북고등학교등학교  197   90   85  100  95  85      PYTHON  Pass\n2번    정대만  상북고등학교등학교  184   40   35   50  55  25        JAVA  Fail\n3번    송태섭  상북고등학교등학교  168   80   75   70  80  75  JAVASCRIPT  Fail\n4번    서태웅  상북고등학교등학교  187   40   60   70  75  80         NaN  Fail\n5번    강백호  상북고등학교등학교  188   15   20   10  35  10         NaN  Fail\n6번    변덕규  능남고등학교등학교  202   80  100   95  85  80           C  Pass\n7번    황태산  능남고등학교등학교  188   55   65   45  40  35      PYTHON  Fail\n8번    윤대협  능남고등학교등학교  190  100   85   90  95  95          C#  Pass",
      "text/html": "<div>\n<style scoped>\n    .dataframe tbody tr th:only-of-type {\n        vertical-align: middle;\n    }\n\n    .dataframe tbody tr th {\n        vertical-align: top;\n    }\n\n    .dataframe thead th {\n        text-align: right;\n    }\n</style>\n<table border=\"1\" class=\"dataframe\">\n  <thead>\n    <tr style=\"text-align: right;\">\n      <th></th>\n      <th>이름</th>\n      <th>학교</th>\n      <th>키</th>\n      <th>국어</th>\n      <th>영어</th>\n      <th>수학</th>\n      <th>과학</th>\n      <th>사회</th>\n      <th>SW특기</th>\n      <th>결과</th>\n    </tr>\n    <tr>\n      <th>지원번호</th>\n      <th></th>\n      <th></th>\n      <th></th>\n      <th></th>\n      <th></th>\n      <th></th>\n      <th></th>\n      <th></th>\n      <th></th>\n      <th></th>\n    </tr>\n  </thead>\n  <tbody>\n    <tr>\n      <th>1번</th>\n      <td>채치수</td>\n      <td>상북고등학교등학교</td>\n      <td>197</td>\n      <td>90</td>\n      <td>85</td>\n      <td>100</td>\n      <td>95</td>\n      <td>85</td>\n      <td>PYTHON</td>\n      <td>Pass</td>\n    </tr>\n    <tr>\n      <th>2번</th>\n      <td>정대만</td>\n      <td>상북고등학교등학교</td>\n      <td>184</td>\n      <td>40</td>\n      <td>35</td>\n      <td>50</td>\n      <td>55</td>\n      <td>25</td>\n      <td>JAVA</td>\n      <td>Fail</td>\n    </tr>\n    <tr>\n      <th>3번</th>\n      <td>송태섭</td>\n      <td>상북고등학교등학교</td>\n      <td>168</td>\n      <td>80</td>\n      <td>75</td>\n      <td>70</td>\n      <td>80</td>\n      <td>75</td>\n      <td>JAVASCRIPT</td>\n      <td>Fail</td>\n    </tr>\n    <tr>\n      <th>4번</th>\n      <td>서태웅</td>\n      <td>상북고등학교등학교</td>\n      <td>187</td>\n      <td>40</td>\n      <td>60</td>\n      <td>70</td>\n      <td>75</td>\n      <td>80</td>\n      <td>NaN</td>\n      <td>Fail</td>\n    </tr>\n    <tr>\n      <th>5번</th>\n      <td>강백호</td>\n      <td>상북고등학교등학교</td>\n      <td>188</td>\n      <td>15</td>\n      <td>20</td>\n      <td>10</td>\n      <td>35</td>\n      <td>10</td>\n      <td>NaN</td>\n      <td>Fail</td>\n    </tr>\n    <tr>\n      <th>6번</th>\n      <td>변덕규</td>\n      <td>능남고등학교등학교</td>\n      <td>202</td>\n      <td>80</td>\n      <td>100</td>\n      <td>95</td>\n      <td>85</td>\n      <td>80</td>\n      <td>C</td>\n      <td>Pass</td>\n    </tr>\n    <tr>\n      <th>7번</th>\n      <td>황태산</td>\n      <td>능남고등학교등학교</td>\n      <td>188</td>\n      <td>55</td>\n      <td>65</td>\n      <td>45</td>\n      <td>40</td>\n      <td>35</td>\n      <td>PYTHON</td>\n      <td>Fail</td>\n    </tr>\n    <tr>\n      <th>8번</th>\n      <td>윤대협</td>\n      <td>능남고등학교등학교</td>\n      <td>190</td>\n      <td>100</td>\n      <td>85</td>\n      <td>90</td>\n      <td>95</td>\n      <td>95</td>\n      <td>C#</td>\n      <td>Pass</td>\n    </tr>\n  </tbody>\n</table>\n</div>"
     },
     "execution_count": 18,
     "metadata": {},
     "output_type": "execute_result"
    }
   ],
   "source": [
    "df.drop(columns=[\"총합\"]) # 총합 Column을 삭제"
   ],
   "metadata": {
    "collapsed": false,
    "pycharm": {
     "name": "#%%\n"
    }
   }
  },
  {
   "cell_type": "code",
   "execution_count": 20,
   "outputs": [
    {
     "data": {
      "text/plain": "       이름         학교    키  과학  사회        SW특기   총합    결과\n지원번호                                                    \n1번    채치수  상북고등학교등학교  197  95  85      PYTHON  455  Pass\n2번    정대만  상북고등학교등학교  184  55  25        JAVA  205  Fail\n3번    송태섭  상북고등학교등학교  168  80  75  JAVASCRIPT  380  Fail\n4번    서태웅  상북고등학교등학교  187  75  80         NaN  325  Fail\n5번    강백호  상북고등학교등학교  188  35  10         NaN   90  Fail\n6번    변덕규  능남고등학교등학교  202  85  80           C  440  Pass\n7번    황태산  능남고등학교등학교  188  40  35      PYTHON  240  Fail\n8번    윤대협  능남고등학교등학교  190  95  95          C#  465  Pass",
      "text/html": "<div>\n<style scoped>\n    .dataframe tbody tr th:only-of-type {\n        vertical-align: middle;\n    }\n\n    .dataframe tbody tr th {\n        vertical-align: top;\n    }\n\n    .dataframe thead th {\n        text-align: right;\n    }\n</style>\n<table border=\"1\" class=\"dataframe\">\n  <thead>\n    <tr style=\"text-align: right;\">\n      <th></th>\n      <th>이름</th>\n      <th>학교</th>\n      <th>키</th>\n      <th>과학</th>\n      <th>사회</th>\n      <th>SW특기</th>\n      <th>총합</th>\n      <th>결과</th>\n    </tr>\n    <tr>\n      <th>지원번호</th>\n      <th></th>\n      <th></th>\n      <th></th>\n      <th></th>\n      <th></th>\n      <th></th>\n      <th></th>\n      <th></th>\n    </tr>\n  </thead>\n  <tbody>\n    <tr>\n      <th>1번</th>\n      <td>채치수</td>\n      <td>상북고등학교등학교</td>\n      <td>197</td>\n      <td>95</td>\n      <td>85</td>\n      <td>PYTHON</td>\n      <td>455</td>\n      <td>Pass</td>\n    </tr>\n    <tr>\n      <th>2번</th>\n      <td>정대만</td>\n      <td>상북고등학교등학교</td>\n      <td>184</td>\n      <td>55</td>\n      <td>25</td>\n      <td>JAVA</td>\n      <td>205</td>\n      <td>Fail</td>\n    </tr>\n    <tr>\n      <th>3번</th>\n      <td>송태섭</td>\n      <td>상북고등학교등학교</td>\n      <td>168</td>\n      <td>80</td>\n      <td>75</td>\n      <td>JAVASCRIPT</td>\n      <td>380</td>\n      <td>Fail</td>\n    </tr>\n    <tr>\n      <th>4번</th>\n      <td>서태웅</td>\n      <td>상북고등학교등학교</td>\n      <td>187</td>\n      <td>75</td>\n      <td>80</td>\n      <td>NaN</td>\n      <td>325</td>\n      <td>Fail</td>\n    </tr>\n    <tr>\n      <th>5번</th>\n      <td>강백호</td>\n      <td>상북고등학교등학교</td>\n      <td>188</td>\n      <td>35</td>\n      <td>10</td>\n      <td>NaN</td>\n      <td>90</td>\n      <td>Fail</td>\n    </tr>\n    <tr>\n      <th>6번</th>\n      <td>변덕규</td>\n      <td>능남고등학교등학교</td>\n      <td>202</td>\n      <td>85</td>\n      <td>80</td>\n      <td>C</td>\n      <td>440</td>\n      <td>Pass</td>\n    </tr>\n    <tr>\n      <th>7번</th>\n      <td>황태산</td>\n      <td>능남고등학교등학교</td>\n      <td>188</td>\n      <td>40</td>\n      <td>35</td>\n      <td>PYTHON</td>\n      <td>240</td>\n      <td>Fail</td>\n    </tr>\n    <tr>\n      <th>8번</th>\n      <td>윤대협</td>\n      <td>능남고등학교등학교</td>\n      <td>190</td>\n      <td>95</td>\n      <td>95</td>\n      <td>C#</td>\n      <td>465</td>\n      <td>Pass</td>\n    </tr>\n  </tbody>\n</table>\n</div>"
     },
     "execution_count": 20,
     "metadata": {},
     "output_type": "execute_result"
    }
   ],
   "source": [
    "df.drop(columns=[\"국어\", \"영어\", \"수학\"])"
   ],
   "metadata": {
    "collapsed": false,
    "pycharm": {
     "name": "#%%\n"
    }
   }
  },
  {
   "cell_type": "markdown",
   "source": [
    "## Row 삭제"
   ],
   "metadata": {
    "collapsed": false,
    "pycharm": {
     "name": "#%% md\n"
    }
   }
  },
  {
   "cell_type": "code",
   "execution_count": 21,
   "outputs": [
    {
     "data": {
      "text/plain": "       이름         학교    키   국어   영어   수학  과학  사회        SW특기   총합    결과\n지원번호                                                                   \n1번    채치수  상북고등학교등학교  197   90   85  100  95  85      PYTHON  455  Pass\n2번    정대만  상북고등학교등학교  184   40   35   50  55  25        JAVA  205  Fail\n3번    송태섭  상북고등학교등학교  168   80   75   70  80  75  JAVASCRIPT  380  Fail\n5번    강백호  상북고등학교등학교  188   15   20   10  35  10         NaN   90  Fail\n6번    변덕규  능남고등학교등학교  202   80  100   95  85  80           C  440  Pass\n7번    황태산  능남고등학교등학교  188   55   65   45  40  35      PYTHON  240  Fail\n8번    윤대협  능남고등학교등학교  190  100   85   90  95  95          C#  465  Pass",
      "text/html": "<div>\n<style scoped>\n    .dataframe tbody tr th:only-of-type {\n        vertical-align: middle;\n    }\n\n    .dataframe tbody tr th {\n        vertical-align: top;\n    }\n\n    .dataframe thead th {\n        text-align: right;\n    }\n</style>\n<table border=\"1\" class=\"dataframe\">\n  <thead>\n    <tr style=\"text-align: right;\">\n      <th></th>\n      <th>이름</th>\n      <th>학교</th>\n      <th>키</th>\n      <th>국어</th>\n      <th>영어</th>\n      <th>수학</th>\n      <th>과학</th>\n      <th>사회</th>\n      <th>SW특기</th>\n      <th>총합</th>\n      <th>결과</th>\n    </tr>\n    <tr>\n      <th>지원번호</th>\n      <th></th>\n      <th></th>\n      <th></th>\n      <th></th>\n      <th></th>\n      <th></th>\n      <th></th>\n      <th></th>\n      <th></th>\n      <th></th>\n      <th></th>\n    </tr>\n  </thead>\n  <tbody>\n    <tr>\n      <th>1번</th>\n      <td>채치수</td>\n      <td>상북고등학교등학교</td>\n      <td>197</td>\n      <td>90</td>\n      <td>85</td>\n      <td>100</td>\n      <td>95</td>\n      <td>85</td>\n      <td>PYTHON</td>\n      <td>455</td>\n      <td>Pass</td>\n    </tr>\n    <tr>\n      <th>2번</th>\n      <td>정대만</td>\n      <td>상북고등학교등학교</td>\n      <td>184</td>\n      <td>40</td>\n      <td>35</td>\n      <td>50</td>\n      <td>55</td>\n      <td>25</td>\n      <td>JAVA</td>\n      <td>205</td>\n      <td>Fail</td>\n    </tr>\n    <tr>\n      <th>3번</th>\n      <td>송태섭</td>\n      <td>상북고등학교등학교</td>\n      <td>168</td>\n      <td>80</td>\n      <td>75</td>\n      <td>70</td>\n      <td>80</td>\n      <td>75</td>\n      <td>JAVASCRIPT</td>\n      <td>380</td>\n      <td>Fail</td>\n    </tr>\n    <tr>\n      <th>5번</th>\n      <td>강백호</td>\n      <td>상북고등학교등학교</td>\n      <td>188</td>\n      <td>15</td>\n      <td>20</td>\n      <td>10</td>\n      <td>35</td>\n      <td>10</td>\n      <td>NaN</td>\n      <td>90</td>\n      <td>Fail</td>\n    </tr>\n    <tr>\n      <th>6번</th>\n      <td>변덕규</td>\n      <td>능남고등학교등학교</td>\n      <td>202</td>\n      <td>80</td>\n      <td>100</td>\n      <td>95</td>\n      <td>85</td>\n      <td>80</td>\n      <td>C</td>\n      <td>440</td>\n      <td>Pass</td>\n    </tr>\n    <tr>\n      <th>7번</th>\n      <td>황태산</td>\n      <td>능남고등학교등학교</td>\n      <td>188</td>\n      <td>55</td>\n      <td>65</td>\n      <td>45</td>\n      <td>40</td>\n      <td>35</td>\n      <td>PYTHON</td>\n      <td>240</td>\n      <td>Fail</td>\n    </tr>\n    <tr>\n      <th>8번</th>\n      <td>윤대협</td>\n      <td>능남고등학교등학교</td>\n      <td>190</td>\n      <td>100</td>\n      <td>85</td>\n      <td>90</td>\n      <td>95</td>\n      <td>95</td>\n      <td>C#</td>\n      <td>465</td>\n      <td>Pass</td>\n    </tr>\n  </tbody>\n</table>\n</div>"
     },
     "execution_count": 21,
     "metadata": {},
     "output_type": "execute_result"
    }
   ],
   "source": [
    "df.drop(index=\"4번\") # 4번 학생 데이터 삭제"
   ],
   "metadata": {
    "collapsed": false,
    "pycharm": {
     "name": "#%%\n"
    }
   }
  },
  {
   "cell_type": "code",
   "execution_count": 22,
   "outputs": [
    {
     "data": {
      "text/plain": "       이름         학교    키  국어  영어  수학  과학  사회        SW특기   총합    결과\n지원번호                                                                \n2번    정대만  상북고등학교등학교  184  40  35  50  55  25        JAVA  205  Fail\n3번    송태섭  상북고등학교등학교  168  80  75  70  80  75  JAVASCRIPT  380  Fail\n4번    서태웅  상북고등학교등학교  187  40  60  70  75  80         NaN  325  Fail\n5번    강백호  상북고등학교등학교  188  15  20  10  35  10         NaN   90  Fail\n7번    황태산  능남고등학교등학교  188  55  65  45  40  35      PYTHON  240  Fail",
      "text/html": "<div>\n<style scoped>\n    .dataframe tbody tr th:only-of-type {\n        vertical-align: middle;\n    }\n\n    .dataframe tbody tr th {\n        vertical-align: top;\n    }\n\n    .dataframe thead th {\n        text-align: right;\n    }\n</style>\n<table border=\"1\" class=\"dataframe\">\n  <thead>\n    <tr style=\"text-align: right;\">\n      <th></th>\n      <th>이름</th>\n      <th>학교</th>\n      <th>키</th>\n      <th>국어</th>\n      <th>영어</th>\n      <th>수학</th>\n      <th>과학</th>\n      <th>사회</th>\n      <th>SW특기</th>\n      <th>총합</th>\n      <th>결과</th>\n    </tr>\n    <tr>\n      <th>지원번호</th>\n      <th></th>\n      <th></th>\n      <th></th>\n      <th></th>\n      <th></th>\n      <th></th>\n      <th></th>\n      <th></th>\n      <th></th>\n      <th></th>\n      <th></th>\n    </tr>\n  </thead>\n  <tbody>\n    <tr>\n      <th>2번</th>\n      <td>정대만</td>\n      <td>상북고등학교등학교</td>\n      <td>184</td>\n      <td>40</td>\n      <td>35</td>\n      <td>50</td>\n      <td>55</td>\n      <td>25</td>\n      <td>JAVA</td>\n      <td>205</td>\n      <td>Fail</td>\n    </tr>\n    <tr>\n      <th>3번</th>\n      <td>송태섭</td>\n      <td>상북고등학교등학교</td>\n      <td>168</td>\n      <td>80</td>\n      <td>75</td>\n      <td>70</td>\n      <td>80</td>\n      <td>75</td>\n      <td>JAVASCRIPT</td>\n      <td>380</td>\n      <td>Fail</td>\n    </tr>\n    <tr>\n      <th>4번</th>\n      <td>서태웅</td>\n      <td>상북고등학교등학교</td>\n      <td>187</td>\n      <td>40</td>\n      <td>60</td>\n      <td>70</td>\n      <td>75</td>\n      <td>80</td>\n      <td>NaN</td>\n      <td>325</td>\n      <td>Fail</td>\n    </tr>\n    <tr>\n      <th>5번</th>\n      <td>강백호</td>\n      <td>상북고등학교등학교</td>\n      <td>188</td>\n      <td>15</td>\n      <td>20</td>\n      <td>10</td>\n      <td>35</td>\n      <td>10</td>\n      <td>NaN</td>\n      <td>90</td>\n      <td>Fail</td>\n    </tr>\n    <tr>\n      <th>7번</th>\n      <td>황태산</td>\n      <td>능남고등학교등학교</td>\n      <td>188</td>\n      <td>55</td>\n      <td>65</td>\n      <td>45</td>\n      <td>40</td>\n      <td>35</td>\n      <td>PYTHON</td>\n      <td>240</td>\n      <td>Fail</td>\n    </tr>\n  </tbody>\n</table>\n</div>"
     },
     "execution_count": 22,
     "metadata": {},
     "output_type": "execute_result"
    }
   ],
   "source": [
    "filt = df['수학'] < 80 # 수학 점수가 80 점 미만 학생 필터링\n",
    "df[filt]"
   ],
   "metadata": {
    "collapsed": false,
    "pycharm": {
     "name": "#%%\n"
    }
   }
  },
  {
   "cell_type": "code",
   "execution_count": 23,
   "outputs": [
    {
     "data": {
      "text/plain": "       이름         학교    키   국어   영어   수학  과학  사회    SW특기   총합    결과\n지원번호                                                               \n1번    채치수  상북고등학교등학교  197   90   85  100  95  85  PYTHON  455  Pass\n6번    변덕규  능남고등학교등학교  202   80  100   95  85  80       C  440  Pass\n8번    윤대협  능남고등학교등학교  190  100   85   90  95  95      C#  465  Pass",
      "text/html": "<div>\n<style scoped>\n    .dataframe tbody tr th:only-of-type {\n        vertical-align: middle;\n    }\n\n    .dataframe tbody tr th {\n        vertical-align: top;\n    }\n\n    .dataframe thead th {\n        text-align: right;\n    }\n</style>\n<table border=\"1\" class=\"dataframe\">\n  <thead>\n    <tr style=\"text-align: right;\">\n      <th></th>\n      <th>이름</th>\n      <th>학교</th>\n      <th>키</th>\n      <th>국어</th>\n      <th>영어</th>\n      <th>수학</th>\n      <th>과학</th>\n      <th>사회</th>\n      <th>SW특기</th>\n      <th>총합</th>\n      <th>결과</th>\n    </tr>\n    <tr>\n      <th>지원번호</th>\n      <th></th>\n      <th></th>\n      <th></th>\n      <th></th>\n      <th></th>\n      <th></th>\n      <th></th>\n      <th></th>\n      <th></th>\n      <th></th>\n      <th></th>\n    </tr>\n  </thead>\n  <tbody>\n    <tr>\n      <th>1번</th>\n      <td>채치수</td>\n      <td>상북고등학교등학교</td>\n      <td>197</td>\n      <td>90</td>\n      <td>85</td>\n      <td>100</td>\n      <td>95</td>\n      <td>85</td>\n      <td>PYTHON</td>\n      <td>455</td>\n      <td>Pass</td>\n    </tr>\n    <tr>\n      <th>6번</th>\n      <td>변덕규</td>\n      <td>능남고등학교등학교</td>\n      <td>202</td>\n      <td>80</td>\n      <td>100</td>\n      <td>95</td>\n      <td>85</td>\n      <td>80</td>\n      <td>C</td>\n      <td>440</td>\n      <td>Pass</td>\n    </tr>\n    <tr>\n      <th>8번</th>\n      <td>윤대협</td>\n      <td>능남고등학교등학교</td>\n      <td>190</td>\n      <td>100</td>\n      <td>85</td>\n      <td>90</td>\n      <td>95</td>\n      <td>95</td>\n      <td>C#</td>\n      <td>465</td>\n      <td>Pass</td>\n    </tr>\n  </tbody>\n</table>\n</div>"
     },
     "execution_count": 23,
     "metadata": {},
     "output_type": "execute_result"
    }
   ],
   "source": [
    "df.drop(index=df[filt].index)"
   ],
   "metadata": {
    "collapsed": false,
    "pycharm": {
     "name": "#%%\n"
    }
   }
  },
  {
   "cell_type": "markdown",
   "source": [
    "## Row 추가"
   ],
   "metadata": {
    "collapsed": false,
    "pycharm": {
     "name": "#%% md\n"
    }
   }
  },
  {
   "cell_type": "code",
   "execution_count": 24,
   "outputs": [
    {
     "data": {
      "text/plain": "       이름         학교      키   국어   영어   수학  과학  사회        SW특기   총합    결과\n지원번호                                                                     \n1번    채치수  상북고등학교등학교  197.0   90   85  100  95  85      PYTHON  455  Pass\n2번    정대만  상북고등학교등학교  184.0   40   35   50  55  25        JAVA  205  Fail\n3번    송태섭  상북고등학교등학교  168.0   80   75   70  80  75  JAVASCRIPT  380  Fail\n4번    서태웅  상북고등학교등학교  187.0   40   60   70  75  80         NaN  325  Fail\n5번    강백호  상북고등학교등학교  188.0   15   20   10  35  10         NaN   90  Fail\n6번    변덕규  능남고등학교등학교  202.0   80  100   95  85  80           C  440  Pass\n7번    황태산  능남고등학교등학교  188.0   55   65   45  40  35      PYTHON  240  Fail\n8번    윤대협  능남고등학교등학교  190.0  100   85   90  95  95          C#  465  Pass\n9번    이정환     해남고등학교  184.1   90   90   90  90  90      Kotlin  450  Pass",
      "text/html": "<div>\n<style scoped>\n    .dataframe tbody tr th:only-of-type {\n        vertical-align: middle;\n    }\n\n    .dataframe tbody tr th {\n        vertical-align: top;\n    }\n\n    .dataframe thead th {\n        text-align: right;\n    }\n</style>\n<table border=\"1\" class=\"dataframe\">\n  <thead>\n    <tr style=\"text-align: right;\">\n      <th></th>\n      <th>이름</th>\n      <th>학교</th>\n      <th>키</th>\n      <th>국어</th>\n      <th>영어</th>\n      <th>수학</th>\n      <th>과학</th>\n      <th>사회</th>\n      <th>SW특기</th>\n      <th>총합</th>\n      <th>결과</th>\n    </tr>\n    <tr>\n      <th>지원번호</th>\n      <th></th>\n      <th></th>\n      <th></th>\n      <th></th>\n      <th></th>\n      <th></th>\n      <th></th>\n      <th></th>\n      <th></th>\n      <th></th>\n      <th></th>\n    </tr>\n  </thead>\n  <tbody>\n    <tr>\n      <th>1번</th>\n      <td>채치수</td>\n      <td>상북고등학교등학교</td>\n      <td>197.0</td>\n      <td>90</td>\n      <td>85</td>\n      <td>100</td>\n      <td>95</td>\n      <td>85</td>\n      <td>PYTHON</td>\n      <td>455</td>\n      <td>Pass</td>\n    </tr>\n    <tr>\n      <th>2번</th>\n      <td>정대만</td>\n      <td>상북고등학교등학교</td>\n      <td>184.0</td>\n      <td>40</td>\n      <td>35</td>\n      <td>50</td>\n      <td>55</td>\n      <td>25</td>\n      <td>JAVA</td>\n      <td>205</td>\n      <td>Fail</td>\n    </tr>\n    <tr>\n      <th>3번</th>\n      <td>송태섭</td>\n      <td>상북고등학교등학교</td>\n      <td>168.0</td>\n      <td>80</td>\n      <td>75</td>\n      <td>70</td>\n      <td>80</td>\n      <td>75</td>\n      <td>JAVASCRIPT</td>\n      <td>380</td>\n      <td>Fail</td>\n    </tr>\n    <tr>\n      <th>4번</th>\n      <td>서태웅</td>\n      <td>상북고등학교등학교</td>\n      <td>187.0</td>\n      <td>40</td>\n      <td>60</td>\n      <td>70</td>\n      <td>75</td>\n      <td>80</td>\n      <td>NaN</td>\n      <td>325</td>\n      <td>Fail</td>\n    </tr>\n    <tr>\n      <th>5번</th>\n      <td>강백호</td>\n      <td>상북고등학교등학교</td>\n      <td>188.0</td>\n      <td>15</td>\n      <td>20</td>\n      <td>10</td>\n      <td>35</td>\n      <td>10</td>\n      <td>NaN</td>\n      <td>90</td>\n      <td>Fail</td>\n    </tr>\n    <tr>\n      <th>6번</th>\n      <td>변덕규</td>\n      <td>능남고등학교등학교</td>\n      <td>202.0</td>\n      <td>80</td>\n      <td>100</td>\n      <td>95</td>\n      <td>85</td>\n      <td>80</td>\n      <td>C</td>\n      <td>440</td>\n      <td>Pass</td>\n    </tr>\n    <tr>\n      <th>7번</th>\n      <td>황태산</td>\n      <td>능남고등학교등학교</td>\n      <td>188.0</td>\n      <td>55</td>\n      <td>65</td>\n      <td>45</td>\n      <td>40</td>\n      <td>35</td>\n      <td>PYTHON</td>\n      <td>240</td>\n      <td>Fail</td>\n    </tr>\n    <tr>\n      <th>8번</th>\n      <td>윤대협</td>\n      <td>능남고등학교등학교</td>\n      <td>190.0</td>\n      <td>100</td>\n      <td>85</td>\n      <td>90</td>\n      <td>95</td>\n      <td>95</td>\n      <td>C#</td>\n      <td>465</td>\n      <td>Pass</td>\n    </tr>\n    <tr>\n      <th>9번</th>\n      <td>이정환</td>\n      <td>해남고등학교</td>\n      <td>184.1</td>\n      <td>90</td>\n      <td>90</td>\n      <td>90</td>\n      <td>90</td>\n      <td>90</td>\n      <td>Kotlin</td>\n      <td>450</td>\n      <td>Pass</td>\n    </tr>\n  </tbody>\n</table>\n</div>"
     },
     "execution_count": 24,
     "metadata": {},
     "output_type": "execute_result"
    }
   ],
   "source": [
    "df.loc['9번'] = [\"이정환\", \"해남고등학교\", 184.1, 90, 90, 90, 90, 90, \"Kotlin\", 450, \"Pass\"]\n",
    "df"
   ],
   "metadata": {
    "collapsed": false,
    "pycharm": {
     "name": "#%%\n"
    }
   }
  },
  {
   "cell_type": "markdown",
   "source": [
    "## Cell 수정"
   ],
   "metadata": {
    "collapsed": false,
    "pycharm": {
     "name": "#%% md\n"
    }
   }
  },
  {
   "cell_type": "code",
   "execution_count": 25,
   "outputs": [
    {
     "data": {
      "text/plain": "       이름         학교      키   국어   영어   수학  과학  사회        SW특기   총합    결과\n지원번호                                                                     \n1번    채치수  상북고등학교등학교  197.0   90   85  100  95  85      PYTHON  455  Pass\n2번    정대만  상북고등학교등학교  184.0   40   35   50  55  25        JAVA  205  Fail\n3번    송태섭  상북고등학교등학교  168.0   80   75   70  80  75  JAVASCRIPT  380  Fail\n4번    서태웅  상북고등학교등학교  187.0   40   60   70  75  80      Python  325  Fail\n5번    강백호  상북고등학교등학교  188.0   15   20   10  35  10         NaN   90  Fail\n6번    변덕규  능남고등학교등학교  202.0   80  100   95  85  80           C  440  Pass\n7번    황태산  능남고등학교등학교  188.0   55   65   45  40  35      PYTHON  240  Fail\n8번    윤대협  능남고등학교등학교  190.0  100   85   90  95  95          C#  465  Pass\n9번    이정환     해남고등학교  184.1   90   90   90  90  90      Kotlin  450  Pass",
      "text/html": "<div>\n<style scoped>\n    .dataframe tbody tr th:only-of-type {\n        vertical-align: middle;\n    }\n\n    .dataframe tbody tr th {\n        vertical-align: top;\n    }\n\n    .dataframe thead th {\n        text-align: right;\n    }\n</style>\n<table border=\"1\" class=\"dataframe\">\n  <thead>\n    <tr style=\"text-align: right;\">\n      <th></th>\n      <th>이름</th>\n      <th>학교</th>\n      <th>키</th>\n      <th>국어</th>\n      <th>영어</th>\n      <th>수학</th>\n      <th>과학</th>\n      <th>사회</th>\n      <th>SW특기</th>\n      <th>총합</th>\n      <th>결과</th>\n    </tr>\n    <tr>\n      <th>지원번호</th>\n      <th></th>\n      <th></th>\n      <th></th>\n      <th></th>\n      <th></th>\n      <th></th>\n      <th></th>\n      <th></th>\n      <th></th>\n      <th></th>\n      <th></th>\n    </tr>\n  </thead>\n  <tbody>\n    <tr>\n      <th>1번</th>\n      <td>채치수</td>\n      <td>상북고등학교등학교</td>\n      <td>197.0</td>\n      <td>90</td>\n      <td>85</td>\n      <td>100</td>\n      <td>95</td>\n      <td>85</td>\n      <td>PYTHON</td>\n      <td>455</td>\n      <td>Pass</td>\n    </tr>\n    <tr>\n      <th>2번</th>\n      <td>정대만</td>\n      <td>상북고등학교등학교</td>\n      <td>184.0</td>\n      <td>40</td>\n      <td>35</td>\n      <td>50</td>\n      <td>55</td>\n      <td>25</td>\n      <td>JAVA</td>\n      <td>205</td>\n      <td>Fail</td>\n    </tr>\n    <tr>\n      <th>3번</th>\n      <td>송태섭</td>\n      <td>상북고등학교등학교</td>\n      <td>168.0</td>\n      <td>80</td>\n      <td>75</td>\n      <td>70</td>\n      <td>80</td>\n      <td>75</td>\n      <td>JAVASCRIPT</td>\n      <td>380</td>\n      <td>Fail</td>\n    </tr>\n    <tr>\n      <th>4번</th>\n      <td>서태웅</td>\n      <td>상북고등학교등학교</td>\n      <td>187.0</td>\n      <td>40</td>\n      <td>60</td>\n      <td>70</td>\n      <td>75</td>\n      <td>80</td>\n      <td>Python</td>\n      <td>325</td>\n      <td>Fail</td>\n    </tr>\n    <tr>\n      <th>5번</th>\n      <td>강백호</td>\n      <td>상북고등학교등학교</td>\n      <td>188.0</td>\n      <td>15</td>\n      <td>20</td>\n      <td>10</td>\n      <td>35</td>\n      <td>10</td>\n      <td>NaN</td>\n      <td>90</td>\n      <td>Fail</td>\n    </tr>\n    <tr>\n      <th>6번</th>\n      <td>변덕규</td>\n      <td>능남고등학교등학교</td>\n      <td>202.0</td>\n      <td>80</td>\n      <td>100</td>\n      <td>95</td>\n      <td>85</td>\n      <td>80</td>\n      <td>C</td>\n      <td>440</td>\n      <td>Pass</td>\n    </tr>\n    <tr>\n      <th>7번</th>\n      <td>황태산</td>\n      <td>능남고등학교등학교</td>\n      <td>188.0</td>\n      <td>55</td>\n      <td>65</td>\n      <td>45</td>\n      <td>40</td>\n      <td>35</td>\n      <td>PYTHON</td>\n      <td>240</td>\n      <td>Fail</td>\n    </tr>\n    <tr>\n      <th>8번</th>\n      <td>윤대협</td>\n      <td>능남고등학교등학교</td>\n      <td>190.0</td>\n      <td>100</td>\n      <td>85</td>\n      <td>90</td>\n      <td>95</td>\n      <td>95</td>\n      <td>C#</td>\n      <td>465</td>\n      <td>Pass</td>\n    </tr>\n    <tr>\n      <th>9번</th>\n      <td>이정환</td>\n      <td>해남고등학교</td>\n      <td>184.1</td>\n      <td>90</td>\n      <td>90</td>\n      <td>90</td>\n      <td>90</td>\n      <td>90</td>\n      <td>Kotlin</td>\n      <td>450</td>\n      <td>Pass</td>\n    </tr>\n  </tbody>\n</table>\n</div>"
     },
     "execution_count": 25,
     "metadata": {},
     "output_type": "execute_result"
    }
   ],
   "source": [
    "df.loc['4번', \"SW특기\"] = \"Python\"\n",
    "df"
   ],
   "metadata": {
    "collapsed": false,
    "pycharm": {
     "name": "#%%\n"
    }
   }
  },
  {
   "cell_type": "code",
   "execution_count": 27,
   "outputs": [
    {
     "data": {
      "text/plain": "       이름         학교      키   국어   영어   수학  과학  사회        SW특기   총합    결과\n지원번호                                                                     \n1번    채치수  상북고등학교등학교  197.0   90   85  100  95  85      PYTHON  455  Pass\n2번    정대만  상북고등학교등학교  184.0   40   35   50  55  25        JAVA  205  Fail\n3번    송태섭  상북고등학교등학교  168.0   80   75   70  80  75  JAVASCRIPT  380  Fail\n4번    서태웅  상북고등학교등학교  187.0   40   60   70  75  80      Python  325  Fail\n5번    강백호     능남고등학교  188.0   15   20   10  35  10           C   90  Fail\n6번    변덕규  능남고등학교등학교  202.0   80  100   95  85  80           C  440  Pass\n7번    황태산  능남고등학교등학교  188.0   55   65   45  40  35      PYTHON  240  Fail\n8번    윤대협  능남고등학교등학교  190.0  100   85   90  95  95          C#  465  Pass\n9번    이정환     해남고등학교  184.1   90   90   90  90  90      Kotlin  450  Pass",
      "text/html": "<div>\n<style scoped>\n    .dataframe tbody tr th:only-of-type {\n        vertical-align: middle;\n    }\n\n    .dataframe tbody tr th {\n        vertical-align: top;\n    }\n\n    .dataframe thead th {\n        text-align: right;\n    }\n</style>\n<table border=\"1\" class=\"dataframe\">\n  <thead>\n    <tr style=\"text-align: right;\">\n      <th></th>\n      <th>이름</th>\n      <th>학교</th>\n      <th>키</th>\n      <th>국어</th>\n      <th>영어</th>\n      <th>수학</th>\n      <th>과학</th>\n      <th>사회</th>\n      <th>SW특기</th>\n      <th>총합</th>\n      <th>결과</th>\n    </tr>\n    <tr>\n      <th>지원번호</th>\n      <th></th>\n      <th></th>\n      <th></th>\n      <th></th>\n      <th></th>\n      <th></th>\n      <th></th>\n      <th></th>\n      <th></th>\n      <th></th>\n      <th></th>\n    </tr>\n  </thead>\n  <tbody>\n    <tr>\n      <th>1번</th>\n      <td>채치수</td>\n      <td>상북고등학교등학교</td>\n      <td>197.0</td>\n      <td>90</td>\n      <td>85</td>\n      <td>100</td>\n      <td>95</td>\n      <td>85</td>\n      <td>PYTHON</td>\n      <td>455</td>\n      <td>Pass</td>\n    </tr>\n    <tr>\n      <th>2번</th>\n      <td>정대만</td>\n      <td>상북고등학교등학교</td>\n      <td>184.0</td>\n      <td>40</td>\n      <td>35</td>\n      <td>50</td>\n      <td>55</td>\n      <td>25</td>\n      <td>JAVA</td>\n      <td>205</td>\n      <td>Fail</td>\n    </tr>\n    <tr>\n      <th>3번</th>\n      <td>송태섭</td>\n      <td>상북고등학교등학교</td>\n      <td>168.0</td>\n      <td>80</td>\n      <td>75</td>\n      <td>70</td>\n      <td>80</td>\n      <td>75</td>\n      <td>JAVASCRIPT</td>\n      <td>380</td>\n      <td>Fail</td>\n    </tr>\n    <tr>\n      <th>4번</th>\n      <td>서태웅</td>\n      <td>상북고등학교등학교</td>\n      <td>187.0</td>\n      <td>40</td>\n      <td>60</td>\n      <td>70</td>\n      <td>75</td>\n      <td>80</td>\n      <td>Python</td>\n      <td>325</td>\n      <td>Fail</td>\n    </tr>\n    <tr>\n      <th>5번</th>\n      <td>강백호</td>\n      <td>능남고등학교</td>\n      <td>188.0</td>\n      <td>15</td>\n      <td>20</td>\n      <td>10</td>\n      <td>35</td>\n      <td>10</td>\n      <td>C</td>\n      <td>90</td>\n      <td>Fail</td>\n    </tr>\n    <tr>\n      <th>6번</th>\n      <td>변덕규</td>\n      <td>능남고등학교등학교</td>\n      <td>202.0</td>\n      <td>80</td>\n      <td>100</td>\n      <td>95</td>\n      <td>85</td>\n      <td>80</td>\n      <td>C</td>\n      <td>440</td>\n      <td>Pass</td>\n    </tr>\n    <tr>\n      <th>7번</th>\n      <td>황태산</td>\n      <td>능남고등학교등학교</td>\n      <td>188.0</td>\n      <td>55</td>\n      <td>65</td>\n      <td>45</td>\n      <td>40</td>\n      <td>35</td>\n      <td>PYTHON</td>\n      <td>240</td>\n      <td>Fail</td>\n    </tr>\n    <tr>\n      <th>8번</th>\n      <td>윤대협</td>\n      <td>능남고등학교등학교</td>\n      <td>190.0</td>\n      <td>100</td>\n      <td>85</td>\n      <td>90</td>\n      <td>95</td>\n      <td>95</td>\n      <td>C#</td>\n      <td>465</td>\n      <td>Pass</td>\n    </tr>\n    <tr>\n      <th>9번</th>\n      <td>이정환</td>\n      <td>해남고등학교</td>\n      <td>184.1</td>\n      <td>90</td>\n      <td>90</td>\n      <td>90</td>\n      <td>90</td>\n      <td>90</td>\n      <td>Kotlin</td>\n      <td>450</td>\n      <td>Pass</td>\n    </tr>\n  </tbody>\n</table>\n</div>"
     },
     "execution_count": 27,
     "metadata": {},
     "output_type": "execute_result"
    }
   ],
   "source": [
    "df.loc[\"5번\", [\"학교\", \"SW특기\"]] = [\"능남고등학교\", \"C\"]\n",
    "df"
   ],
   "metadata": {
    "collapsed": false,
    "pycharm": {
     "name": "#%%\n"
    }
   }
  },
  {
   "cell_type": "code",
   "execution_count": 29,
   "outputs": [
    {
     "data": {
      "text/plain": "['이름', '학교', '키', '국어', '영어', '수학', '과학', '사회', 'SW특기', '총합', '결과']"
     },
     "execution_count": 29,
     "metadata": {},
     "output_type": "execute_result"
    }
   ],
   "source": [
    "cols = list(df.columns)\n",
    "cols"
   ],
   "metadata": {
    "collapsed": false,
    "pycharm": {
     "name": "#%%\n"
    }
   }
  },
  {
   "cell_type": "code",
   "execution_count": 30,
   "outputs": [
    {
     "data": {
      "text/plain": "        결과   이름         학교      키   국어   영어   수학  과학  사회        SW특기   총합\n지원번호                                                                     \n1번    Pass  채치수  상북고등학교등학교  197.0   90   85  100  95  85      PYTHON  455\n2번    Fail  정대만  상북고등학교등학교  184.0   40   35   50  55  25        JAVA  205\n3번    Fail  송태섭  상북고등학교등학교  168.0   80   75   70  80  75  JAVASCRIPT  380\n4번    Fail  서태웅  상북고등학교등학교  187.0   40   60   70  75  80      Python  325\n5번    Fail  강백호     능남고등학교  188.0   15   20   10  35  10           C   90\n6번    Pass  변덕규  능남고등학교등학교  202.0   80  100   95  85  80           C  440\n7번    Fail  황태산  능남고등학교등학교  188.0   55   65   45  40  35      PYTHON  240\n8번    Pass  윤대협  능남고등학교등학교  190.0  100   85   90  95  95          C#  465\n9번    Pass  이정환     해남고등학교  184.1   90   90   90  90  90      Kotlin  450",
      "text/html": "<div>\n<style scoped>\n    .dataframe tbody tr th:only-of-type {\n        vertical-align: middle;\n    }\n\n    .dataframe tbody tr th {\n        vertical-align: top;\n    }\n\n    .dataframe thead th {\n        text-align: right;\n    }\n</style>\n<table border=\"1\" class=\"dataframe\">\n  <thead>\n    <tr style=\"text-align: right;\">\n      <th></th>\n      <th>결과</th>\n      <th>이름</th>\n      <th>학교</th>\n      <th>키</th>\n      <th>국어</th>\n      <th>영어</th>\n      <th>수학</th>\n      <th>과학</th>\n      <th>사회</th>\n      <th>SW특기</th>\n      <th>총합</th>\n    </tr>\n    <tr>\n      <th>지원번호</th>\n      <th></th>\n      <th></th>\n      <th></th>\n      <th></th>\n      <th></th>\n      <th></th>\n      <th></th>\n      <th></th>\n      <th></th>\n      <th></th>\n      <th></th>\n    </tr>\n  </thead>\n  <tbody>\n    <tr>\n      <th>1번</th>\n      <td>Pass</td>\n      <td>채치수</td>\n      <td>상북고등학교등학교</td>\n      <td>197.0</td>\n      <td>90</td>\n      <td>85</td>\n      <td>100</td>\n      <td>95</td>\n      <td>85</td>\n      <td>PYTHON</td>\n      <td>455</td>\n    </tr>\n    <tr>\n      <th>2번</th>\n      <td>Fail</td>\n      <td>정대만</td>\n      <td>상북고등학교등학교</td>\n      <td>184.0</td>\n      <td>40</td>\n      <td>35</td>\n      <td>50</td>\n      <td>55</td>\n      <td>25</td>\n      <td>JAVA</td>\n      <td>205</td>\n    </tr>\n    <tr>\n      <th>3번</th>\n      <td>Fail</td>\n      <td>송태섭</td>\n      <td>상북고등학교등학교</td>\n      <td>168.0</td>\n      <td>80</td>\n      <td>75</td>\n      <td>70</td>\n      <td>80</td>\n      <td>75</td>\n      <td>JAVASCRIPT</td>\n      <td>380</td>\n    </tr>\n    <tr>\n      <th>4번</th>\n      <td>Fail</td>\n      <td>서태웅</td>\n      <td>상북고등학교등학교</td>\n      <td>187.0</td>\n      <td>40</td>\n      <td>60</td>\n      <td>70</td>\n      <td>75</td>\n      <td>80</td>\n      <td>Python</td>\n      <td>325</td>\n    </tr>\n    <tr>\n      <th>5번</th>\n      <td>Fail</td>\n      <td>강백호</td>\n      <td>능남고등학교</td>\n      <td>188.0</td>\n      <td>15</td>\n      <td>20</td>\n      <td>10</td>\n      <td>35</td>\n      <td>10</td>\n      <td>C</td>\n      <td>90</td>\n    </tr>\n    <tr>\n      <th>6번</th>\n      <td>Pass</td>\n      <td>변덕규</td>\n      <td>능남고등학교등학교</td>\n      <td>202.0</td>\n      <td>80</td>\n      <td>100</td>\n      <td>95</td>\n      <td>85</td>\n      <td>80</td>\n      <td>C</td>\n      <td>440</td>\n    </tr>\n    <tr>\n      <th>7번</th>\n      <td>Fail</td>\n      <td>황태산</td>\n      <td>능남고등학교등학교</td>\n      <td>188.0</td>\n      <td>55</td>\n      <td>65</td>\n      <td>45</td>\n      <td>40</td>\n      <td>35</td>\n      <td>PYTHON</td>\n      <td>240</td>\n    </tr>\n    <tr>\n      <th>8번</th>\n      <td>Pass</td>\n      <td>윤대협</td>\n      <td>능남고등학교등학교</td>\n      <td>190.0</td>\n      <td>100</td>\n      <td>85</td>\n      <td>90</td>\n      <td>95</td>\n      <td>95</td>\n      <td>C#</td>\n      <td>465</td>\n    </tr>\n    <tr>\n      <th>9번</th>\n      <td>Pass</td>\n      <td>이정환</td>\n      <td>해남고등학교</td>\n      <td>184.1</td>\n      <td>90</td>\n      <td>90</td>\n      <td>90</td>\n      <td>90</td>\n      <td>90</td>\n      <td>Kotlin</td>\n      <td>450</td>\n    </tr>\n  </tbody>\n</table>\n</div>"
     },
     "execution_count": 30,
     "metadata": {},
     "output_type": "execute_result"
    }
   ],
   "source": [
    "df = df[[cols[-1]] + cols[0:-1]]\n",
    "df"
   ],
   "metadata": {
    "collapsed": false,
    "pycharm": {
     "name": "#%%\n"
    }
   }
  },
  {
   "cell_type": "markdown",
   "source": [
    "## Column 이름 변경"
   ],
   "metadata": {
    "collapsed": false,
    "pycharm": {
     "name": "#%% md\n"
    }
   }
  },
  {
   "cell_type": "code",
   "execution_count": 32,
   "outputs": [
    {
     "data": {
      "text/plain": "        결과   이름         학교\n지원번호                      \n1번    Pass  채치수  상북고등학교등학교\n2번    Fail  정대만  상북고등학교등학교\n3번    Fail  송태섭  상북고등학교등학교\n4번    Fail  서태웅  상북고등학교등학교\n5번    Fail  강백호     능남고등학교\n6번    Pass  변덕규  능남고등학교등학교\n7번    Fail  황태산  능남고등학교등학교\n8번    Pass  윤대협  능남고등학교등학교\n9번    Pass  이정환     해남고등학교",
      "text/html": "<div>\n<style scoped>\n    .dataframe tbody tr th:only-of-type {\n        vertical-align: middle;\n    }\n\n    .dataframe tbody tr th {\n        vertical-align: top;\n    }\n\n    .dataframe thead th {\n        text-align: right;\n    }\n</style>\n<table border=\"1\" class=\"dataframe\">\n  <thead>\n    <tr style=\"text-align: right;\">\n      <th></th>\n      <th>결과</th>\n      <th>이름</th>\n      <th>학교</th>\n    </tr>\n    <tr>\n      <th>지원번호</th>\n      <th></th>\n      <th></th>\n      <th></th>\n    </tr>\n  </thead>\n  <tbody>\n    <tr>\n      <th>1번</th>\n      <td>Pass</td>\n      <td>채치수</td>\n      <td>상북고등학교등학교</td>\n    </tr>\n    <tr>\n      <th>2번</th>\n      <td>Fail</td>\n      <td>정대만</td>\n      <td>상북고등학교등학교</td>\n    </tr>\n    <tr>\n      <th>3번</th>\n      <td>Fail</td>\n      <td>송태섭</td>\n      <td>상북고등학교등학교</td>\n    </tr>\n    <tr>\n      <th>4번</th>\n      <td>Fail</td>\n      <td>서태웅</td>\n      <td>상북고등학교등학교</td>\n    </tr>\n    <tr>\n      <th>5번</th>\n      <td>Fail</td>\n      <td>강백호</td>\n      <td>능남고등학교</td>\n    </tr>\n    <tr>\n      <th>6번</th>\n      <td>Pass</td>\n      <td>변덕규</td>\n      <td>능남고등학교등학교</td>\n    </tr>\n    <tr>\n      <th>7번</th>\n      <td>Fail</td>\n      <td>황태산</td>\n      <td>능남고등학교등학교</td>\n    </tr>\n    <tr>\n      <th>8번</th>\n      <td>Pass</td>\n      <td>윤대협</td>\n      <td>능남고등학교등학교</td>\n    </tr>\n    <tr>\n      <th>9번</th>\n      <td>Pass</td>\n      <td>이정환</td>\n      <td>해남고등학교</td>\n    </tr>\n  </tbody>\n</table>\n</div>"
     },
     "execution_count": 32,
     "metadata": {},
     "output_type": "execute_result"
    }
   ],
   "source": [
    "df = df[[\"결과\", \"이름\", \"학교\"]]\n",
    "df"
   ],
   "metadata": {
    "collapsed": false,
    "pycharm": {
     "name": "#%%\n"
    }
   }
  },
  {
   "cell_type": "code",
   "execution_count": 33,
   "outputs": [],
   "source": [
    "df.columns = [\"Result\", \"Name\", \"School\"]"
   ],
   "metadata": {
    "collapsed": false,
    "pycharm": {
     "name": "#%%\n"
    }
   }
  }
 ],
 "metadata": {
  "kernelspec": {
   "display_name": "Python 3 (ipykernel)",
   "language": "python",
   "name": "python3"
  },
  "language_info": {
   "codemirror_mode": {
    "name": "ipython",
    "version": 3
   },
   "file_extension": ".py",
   "mimetype": "text/x-python",
   "name": "python",
   "nbconvert_exporter": "python",
   "pygments_lexer": "ipython3",
   "version": "3.9.12"
  }
 },
 "nbformat": 4,
 "nbformat_minor": 5
}