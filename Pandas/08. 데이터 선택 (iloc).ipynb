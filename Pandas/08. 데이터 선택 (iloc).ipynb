{
 "cells": [
  {
   "cell_type": "markdown",
   "source": [
    "# 8. 데이터 선택(iloc)\n",
    "위치를 이용하여 원하는 row 에서 원하는 col 선택"
   ],
   "metadata": {
    "collapsed": false,
    "pycharm": {
     "name": "#%% md\n"
    }
   }
  },
  {
   "cell_type": "code",
   "execution_count": 2,
   "outputs": [
    {
     "data": {
      "text/plain": "       이름   학교    키   국어   영어   수학  과학  사회        SW특기\n지원번호                                                  \n1번    채치수  북산고  197   90   85  100  95  85      Python\n2번    정대만  북산고  184   40   35   50  55  25        Java\n3번    송태섭  북산고  168   80   75   70  80  75  Javascript\n4번    서태웅  북산고  187   40   60   70  75  80         NaN\n5번    강백호  북산고  188   15   20   10  35  10         NaN\n6번    변덕규  능남고  202   80  100   95  85  80           C\n7번    황태산  능남고  188   55   65   45  40  35      PYTHON\n8번    윤대협  능남고  190  100   85   90  95  95          C#",
      "text/html": "<div>\n<style scoped>\n    .dataframe tbody tr th:only-of-type {\n        vertical-align: middle;\n    }\n\n    .dataframe tbody tr th {\n        vertical-align: top;\n    }\n\n    .dataframe thead th {\n        text-align: right;\n    }\n</style>\n<table border=\"1\" class=\"dataframe\">\n  <thead>\n    <tr style=\"text-align: right;\">\n      <th></th>\n      <th>이름</th>\n      <th>학교</th>\n      <th>키</th>\n      <th>국어</th>\n      <th>영어</th>\n      <th>수학</th>\n      <th>과학</th>\n      <th>사회</th>\n      <th>SW특기</th>\n    </tr>\n    <tr>\n      <th>지원번호</th>\n      <th></th>\n      <th></th>\n      <th></th>\n      <th></th>\n      <th></th>\n      <th></th>\n      <th></th>\n      <th></th>\n      <th></th>\n    </tr>\n  </thead>\n  <tbody>\n    <tr>\n      <th>1번</th>\n      <td>채치수</td>\n      <td>북산고</td>\n      <td>197</td>\n      <td>90</td>\n      <td>85</td>\n      <td>100</td>\n      <td>95</td>\n      <td>85</td>\n      <td>Python</td>\n    </tr>\n    <tr>\n      <th>2번</th>\n      <td>정대만</td>\n      <td>북산고</td>\n      <td>184</td>\n      <td>40</td>\n      <td>35</td>\n      <td>50</td>\n      <td>55</td>\n      <td>25</td>\n      <td>Java</td>\n    </tr>\n    <tr>\n      <th>3번</th>\n      <td>송태섭</td>\n      <td>북산고</td>\n      <td>168</td>\n      <td>80</td>\n      <td>75</td>\n      <td>70</td>\n      <td>80</td>\n      <td>75</td>\n      <td>Javascript</td>\n    </tr>\n    <tr>\n      <th>4번</th>\n      <td>서태웅</td>\n      <td>북산고</td>\n      <td>187</td>\n      <td>40</td>\n      <td>60</td>\n      <td>70</td>\n      <td>75</td>\n      <td>80</td>\n      <td>NaN</td>\n    </tr>\n    <tr>\n      <th>5번</th>\n      <td>강백호</td>\n      <td>북산고</td>\n      <td>188</td>\n      <td>15</td>\n      <td>20</td>\n      <td>10</td>\n      <td>35</td>\n      <td>10</td>\n      <td>NaN</td>\n    </tr>\n    <tr>\n      <th>6번</th>\n      <td>변덕규</td>\n      <td>능남고</td>\n      <td>202</td>\n      <td>80</td>\n      <td>100</td>\n      <td>95</td>\n      <td>85</td>\n      <td>80</td>\n      <td>C</td>\n    </tr>\n    <tr>\n      <th>7번</th>\n      <td>황태산</td>\n      <td>능남고</td>\n      <td>188</td>\n      <td>55</td>\n      <td>65</td>\n      <td>45</td>\n      <td>40</td>\n      <td>35</td>\n      <td>PYTHON</td>\n    </tr>\n    <tr>\n      <th>8번</th>\n      <td>윤대협</td>\n      <td>능남고</td>\n      <td>190</td>\n      <td>100</td>\n      <td>85</td>\n      <td>90</td>\n      <td>95</td>\n      <td>95</td>\n      <td>C#</td>\n    </tr>\n  </tbody>\n</table>\n</div>"
     },
     "execution_count": 2,
     "metadata": {},
     "output_type": "execute_result"
    }
   ],
   "source": [
    "import pandas as pd\n",
    "df = pd.read_excel(\"score.xlsx\", index_col=\"지원번호\")\n",
    "df"
   ],
   "metadata": {
    "collapsed": false,
    "pycharm": {
     "name": "#%%\n"
    }
   }
  },
  {
   "cell_type": "code",
   "execution_count": 3,
   "outputs": [
    {
     "data": {
      "text/plain": "이름         채치수\n학교         북산고\n키          197\n국어          90\n영어          85\n수학         100\n과학          95\n사회          85\nSW특기    Python\nName: 1번, dtype: object"
     },
     "execution_count": 3,
     "metadata": {},
     "output_type": "execute_result"
    }
   ],
   "source": [
    "df.iloc[0] # 0번째 위치의 데이터"
   ],
   "metadata": {
    "collapsed": false,
    "pycharm": {
     "name": "#%%\n"
    }
   }
  },
  {
   "cell_type": "code",
   "execution_count": 4,
   "outputs": [
    {
     "data": {
      "text/plain": "이름      강백호\n학교      북산고\n키       188\n국어       15\n영어       20\n수학       10\n과학       35\n사회       10\nSW특기    NaN\nName: 5번, dtype: object"
     },
     "execution_count": 4,
     "metadata": {},
     "output_type": "execute_result"
    }
   ],
   "source": [
    "df.iloc[4] # 4번째 위치의 데이터"
   ],
   "metadata": {
    "collapsed": false,
    "pycharm": {
     "name": "#%%\n"
    }
   }
  },
  {
   "cell_type": "code",
   "execution_count": 6,
   "outputs": [
    {
     "data": {
      "text/plain": "       이름   학교    키  국어  영어   수학  과학  사회        SW특기\n지원번호                                                \n1번    채치수  북산고  197  90  85  100  95  85      Python\n2번    정대만  북산고  184  40  35   50  55  25        Java\n3번    송태섭  북산고  168  80  75   70  80  75  Javascript\n4번    서태웅  북산고  187  40  60   70  75  80         NaN\n5번    강백호  북산고  188  15  20   10  35  10         NaN",
      "text/html": "<div>\n<style scoped>\n    .dataframe tbody tr th:only-of-type {\n        vertical-align: middle;\n    }\n\n    .dataframe tbody tr th {\n        vertical-align: top;\n    }\n\n    .dataframe thead th {\n        text-align: right;\n    }\n</style>\n<table border=\"1\" class=\"dataframe\">\n  <thead>\n    <tr style=\"text-align: right;\">\n      <th></th>\n      <th>이름</th>\n      <th>학교</th>\n      <th>키</th>\n      <th>국어</th>\n      <th>영어</th>\n      <th>수학</th>\n      <th>과학</th>\n      <th>사회</th>\n      <th>SW특기</th>\n    </tr>\n    <tr>\n      <th>지원번호</th>\n      <th></th>\n      <th></th>\n      <th></th>\n      <th></th>\n      <th></th>\n      <th></th>\n      <th></th>\n      <th></th>\n      <th></th>\n    </tr>\n  </thead>\n  <tbody>\n    <tr>\n      <th>1번</th>\n      <td>채치수</td>\n      <td>북산고</td>\n      <td>197</td>\n      <td>90</td>\n      <td>85</td>\n      <td>100</td>\n      <td>95</td>\n      <td>85</td>\n      <td>Python</td>\n    </tr>\n    <tr>\n      <th>2번</th>\n      <td>정대만</td>\n      <td>북산고</td>\n      <td>184</td>\n      <td>40</td>\n      <td>35</td>\n      <td>50</td>\n      <td>55</td>\n      <td>25</td>\n      <td>Java</td>\n    </tr>\n    <tr>\n      <th>3번</th>\n      <td>송태섭</td>\n      <td>북산고</td>\n      <td>168</td>\n      <td>80</td>\n      <td>75</td>\n      <td>70</td>\n      <td>80</td>\n      <td>75</td>\n      <td>Javascript</td>\n    </tr>\n    <tr>\n      <th>4번</th>\n      <td>서태웅</td>\n      <td>북산고</td>\n      <td>187</td>\n      <td>40</td>\n      <td>60</td>\n      <td>70</td>\n      <td>75</td>\n      <td>80</td>\n      <td>NaN</td>\n    </tr>\n    <tr>\n      <th>5번</th>\n      <td>강백호</td>\n      <td>북산고</td>\n      <td>188</td>\n      <td>15</td>\n      <td>20</td>\n      <td>10</td>\n      <td>35</td>\n      <td>10</td>\n      <td>NaN</td>\n    </tr>\n  </tbody>\n</table>\n</div>"
     },
     "execution_count": 6,
     "metadata": {},
     "output_type": "execute_result"
    }
   ],
   "source": [
    "df.iloc[0:5] # 0 ~ 4번째 위치의 데이터"
   ],
   "metadata": {
    "collapsed": false,
    "pycharm": {
     "name": "#%%\n"
    }
   }
  },
  {
   "cell_type": "code",
   "execution_count": 8,
   "outputs": [
    {
     "data": {
      "text/plain": "'북산고'"
     },
     "execution_count": 8,
     "metadata": {},
     "output_type": "execute_result"
    }
   ],
   "source": [
    "df.iloc[0, 1] # 0번째 위치의 1번째(학교) 데이터"
   ],
   "metadata": {
    "collapsed": false,
    "pycharm": {
     "name": "#%%\n"
    }
   }
  },
  {
   "cell_type": "code",
   "execution_count": 9,
   "outputs": [
    {
     "data": {
      "text/plain": "188"
     },
     "execution_count": 9,
     "metadata": {},
     "output_type": "execute_result"
    }
   ],
   "source": [
    "df.iloc[4, 2] # 5번 학생의 키 데이터 (4번째 위치의 2번째(키) 데이터)"
   ],
   "metadata": {
    "collapsed": false,
    "pycharm": {
     "name": "#%%\n"
    }
   }
  },
  {
   "cell_type": "code",
   "execution_count": 10,
   "outputs": [
    {
     "data": {
      "text/plain": "지원번호\n1번    197\n2번    184\nName: 키, dtype: int64"
     },
     "execution_count": 10,
     "metadata": {},
     "output_type": "execute_result"
    }
   ],
   "source": [
    "df.iloc[[0, 1], 2] # 0, 1번째 위치의 학생의 2번째(키) 데이터"
   ],
   "metadata": {
    "collapsed": false,
    "pycharm": {
     "name": "#%%\n"
    }
   }
  },
  {
   "cell_type": "code",
   "execution_count": 11,
   "outputs": [
    {
     "data": {
      "text/plain": "      국어  영어\n지원번호        \n1번    90  85\n2번    40  35",
      "text/html": "<div>\n<style scoped>\n    .dataframe tbody tr th:only-of-type {\n        vertical-align: middle;\n    }\n\n    .dataframe tbody tr th {\n        vertical-align: top;\n    }\n\n    .dataframe thead th {\n        text-align: right;\n    }\n</style>\n<table border=\"1\" class=\"dataframe\">\n  <thead>\n    <tr style=\"text-align: right;\">\n      <th></th>\n      <th>국어</th>\n      <th>영어</th>\n    </tr>\n    <tr>\n      <th>지원번호</th>\n      <th></th>\n      <th></th>\n    </tr>\n  </thead>\n  <tbody>\n    <tr>\n      <th>1번</th>\n      <td>90</td>\n      <td>85</td>\n    </tr>\n    <tr>\n      <th>2번</th>\n      <td>40</td>\n      <td>35</td>\n    </tr>\n  </tbody>\n</table>\n</div>"
     },
     "execution_count": 11,
     "metadata": {},
     "output_type": "execute_result"
    }
   ],
   "source": [
    "df.iloc[[0, 1], [3, 4]] # 0, 1 번째 위치의 학생의 3, 4 번째 데이터 (국어, 영어)"
   ],
   "metadata": {
    "collapsed": false,
    "pycharm": {
     "name": "#%%\n"
    }
   }
  },
  {
   "cell_type": "code",
   "execution_count": 12,
   "outputs": [
    {
     "data": {
      "text/plain": "      국어  영어   수학  과학  사회\n지원번호                     \n1번    90  85  100  95  85\n2번    40  35   50  55  25\n3번    80  75   70  80  75\n4번    40  60   70  75  80\n5번    15  20   10  35  10",
      "text/html": "<div>\n<style scoped>\n    .dataframe tbody tr th:only-of-type {\n        vertical-align: middle;\n    }\n\n    .dataframe tbody tr th {\n        vertical-align: top;\n    }\n\n    .dataframe thead th {\n        text-align: right;\n    }\n</style>\n<table border=\"1\" class=\"dataframe\">\n  <thead>\n    <tr style=\"text-align: right;\">\n      <th></th>\n      <th>국어</th>\n      <th>영어</th>\n      <th>수학</th>\n      <th>과학</th>\n      <th>사회</th>\n    </tr>\n    <tr>\n      <th>지원번호</th>\n      <th></th>\n      <th></th>\n      <th></th>\n      <th></th>\n      <th></th>\n    </tr>\n  </thead>\n  <tbody>\n    <tr>\n      <th>1번</th>\n      <td>90</td>\n      <td>85</td>\n      <td>100</td>\n      <td>95</td>\n      <td>85</td>\n    </tr>\n    <tr>\n      <th>2번</th>\n      <td>40</td>\n      <td>35</td>\n      <td>50</td>\n      <td>55</td>\n      <td>25</td>\n    </tr>\n    <tr>\n      <th>3번</th>\n      <td>80</td>\n      <td>75</td>\n      <td>70</td>\n      <td>80</td>\n      <td>75</td>\n    </tr>\n    <tr>\n      <th>4번</th>\n      <td>40</td>\n      <td>60</td>\n      <td>70</td>\n      <td>75</td>\n      <td>80</td>\n    </tr>\n    <tr>\n      <th>5번</th>\n      <td>15</td>\n      <td>20</td>\n      <td>10</td>\n      <td>35</td>\n      <td>10</td>\n    </tr>\n  </tbody>\n</table>\n</div>"
     },
     "execution_count": 12,
     "metadata": {},
     "output_type": "execute_result"
    }
   ],
   "source": [
    "df.iloc[0:5, 3:8] # 0 ~ 4 번째 위치의 학생 중에서, 3 ~ 7 번째 데이터 (국어:사회)"
   ],
   "metadata": {
    "collapsed": false,
    "pycharm": {
     "name": "#%%\n"
    }
   }
  },
  {
   "cell_type": "code",
   "execution_count": null,
   "outputs": [],
   "source": [],
   "metadata": {
    "collapsed": false,
    "pycharm": {
     "name": "#%%\n"
    }
   }
  }
 ],
 "metadata": {
  "kernelspec": {
   "display_name": "Python 3 (ipykernel)",
   "language": "python",
   "name": "python3"
  },
  "language_info": {
   "codemirror_mode": {
    "name": "ipython",
    "version": 3
   },
   "file_extension": ".py",
   "mimetype": "text/x-python",
   "name": "python",
   "nbconvert_exporter": "python",
   "pygments_lexer": "ipython3",
   "version": "3.9.12"
  }
 },
 "nbformat": 4,
 "nbformat_minor": 5
}